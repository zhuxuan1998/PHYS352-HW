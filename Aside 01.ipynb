{
 "cells": [
  {
   "cell_type": "markdown",
   "metadata": {},
   "source": [
    "# Symbol names and pretty printing\n",
    "\n",
    "While preparing a solution to a homework problem, I came across (and made use of) what seems to be an undocumented feature of `sympy`'s $\\LaTeX$ printer to produce symbols with internal typesetting instructions. Here's what I figured out based on reading the source.\n",
    "\n",
    "The $\\LaTeX$ printer figures out how to typeset a particular `sympy` symbol from its name. At the most basic level, the name of the symbol is simply what is printed. This is also the behavior if pretty-printing is turned off. If pretty-printing is turned on, however, the symbol names are typeset in an italic font."
   ]
  },
  {
   "cell_type": "code",
   "execution_count": 1,
   "metadata": {},
   "outputs": [
    {
     "data": {
      "image/png": "[encoded data removed]",
      "text/latex": [
       "$$\\left ( x, \\quad long\\right )$$"
      ],
      "text/plain": [
       "(x, long)"
      ]
     },
     "execution_count": 1,
     "metadata": {},
     "output_type": "execute_result"
    }
   ],
   "source": [
    "import sympy as sp\n",
    "sp.init_printing()\n",
    "\n",
    "sp.symbols('x long')"
   ]
  },
  {
   "cell_type": "markdown",
   "metadata": {},
   "source": [
    "Certain symbol names are special. If you name a symbol after a Greek letter, for example, it gets typeset as that letter, rather than the name of the letter:"
   ]
  },
  {
   "cell_type": "code",
   "execution_count": 2,
   "metadata": {},
   "outputs": [
    {
     "data": {
      "image/png": "[encoded data removed]",
      "text/latex": [
       "$$\\left ( \\Delta, \\quad \\theta\\right )$$"
      ],
      "text/plain": [
       "(Δ, θ)"
      ]
     },
     "execution_count": 2,
     "metadata": {},
     "output_type": "execute_result"
    }
   ],
   "source": [
    "# just a couple of examples\n",
    "sp.symbols('Delta theta')"
   ]
  },
  {
   "cell_type": "markdown",
   "metadata": {},
   "source": [
    "A few Greek letters have variant symbols in $\\LaTeX$, which are also supported."
   ]
  },
  {
   "cell_type": "code",
   "execution_count": 3,
   "metadata": {},
   "outputs": [
    {
     "data": {
      "image/png": "[encoded data removed]",
      "text/latex": [
       "$$\\left ( \\phi, \\quad \\varphi, \\quad \\epsilon, \\quad \\varepsilon, \\quad \\kappa, \\quad \\varkappa, \\quad \\pi, \\quad \\varpi, \\quad \\rho, \\quad \\varrho, \\quad \\sigma, \\quad \\varsigma, \\quad \\theta, \\quad \\vartheta\\right )$$"
      ],
      "text/plain": [
       "(φ, varphi, ε, varepsilon, κ, varkappa, π, varpi, ρ, varrho, σ, ς, θ, vartheta\n",
       ")"
      ]
     },
     "execution_count": 3,
     "metadata": {},
     "output_type": "execute_result"
    }
   ],
   "source": [
    "# the full set\n",
    "sp.symbols('phi varphi epsilon varepsilon kappa varkappa ' +\n",
    "           'pi varpi rho varrho sigma varsigma theta vartheta')"
   ]
  },
  {
   "cell_type": "markdown",
   "metadata": {},
   "source": [
    "There are a limited number of \"other symbols\", most of which appear as variables in mathematical expressions from time to time."
   ]
  },
  {
   "cell_type": "code",
   "execution_count": 4,
   "metadata": {},
   "outputs": [
    {
     "data": {
      "image/png": "[encoded data removed]",
      "text/latex": [
       "$$\\left ( \\aleph, \\quad \\beth, \\quad \\daleth, \\quad \\gimel, \\quad \\ell, \\quad \\eth, \\quad \\hbar, \\quad \\hslash, \\quad \\mho, \\quad \\wp\\right )$$"
      ],
      "text/plain": [
       "(aleph, beth, daleth, gimel, ell, eth, h̅, hslash, mho, wp)"
      ]
     },
     "execution_count": 4,
     "metadata": {},
     "output_type": "execute_result"
    }
   ],
   "source": [
    "# the full set\n",
    "sp.symbols('aleph beth daleth gimel ell eth hbar hslash mho wp')"
   ]
  },
  {
   "cell_type": "markdown",
   "metadata": {},
   "source": [
    "The '_' and '^' keys can be used to make subscripts and superscripts, respectively."
   ]
  },
  {
   "cell_type": "code",
   "execution_count": 5,
   "metadata": {},
   "outputs": [
    {
     "data": {
      "image/png": "[encoded data removed]",
      "text/latex": [
       "$$\\left ( \\Gamma^{i}_{jk}, \\quad \\aleph_{0}, \\quad \\Delta^{n+1}\\right )$$"
      ],
      "text/plain": [
       "(Γ_jk__i, aleph₀, Δⁿ⁺¹)"
      ]
     },
     "execution_count": 5,
     "metadata": {},
     "output_type": "execute_result"
    }
   ],
   "source": [
    "# just a few examples...\n",
    "sp.symbols('Gamma_jk^i aleph_0 Delta^n+1')"
   ]
  },
  {
   "cell_type": "markdown",
   "metadata": {},
   "source": [
    "Two notes here: first, `sympy` symbol names can contain characters (the '+' and '^' above) which are not valid in python variable names. Second, the parsing rules for superscripts and subscripts are different than in $\\LaTeX$, which would render Delta^n+1 as $$\\Delta^n+1$$\n",
    "\n",
    "Here's where it really starts to get interesting. The $\\LaTeX$ printer also will interpret some strings at the end of a variable name as accents:"
   ]
  },
  {
   "cell_type": "code",
   "execution_count": 6,
   "metadata": {},
   "outputs": [
    {
     "data": {
      "image/png": "[encoded data removed]",
      "text/latex": [
       "$$\\left ( x, \\quad \\dot{x}, \\quad \\ddot{x}, \\quad \\dddot{x}, \\quad \\ddddot{x}, \\quad \\vec{x}, \\quad \\bar{x}, \\quad \\tilde{x}, \\quad \\check{x}, \\quad \\breve{x}, \\quad \\hat{x}, \\quad \\acute{x}, \\quad \\grave{x}, \\quad {x}', \\quad {x}', \\quad \\mathring{x}\\right )$$"
      ],
      "text/plain": [
       "(x, ẋ, ẍ, ẍ̇, ẍ̈, x⃗, x̅, x̃, x̌, x̆, x̂, x́, x̀, x′, x′, x̊)"
      ]
     },
     "execution_count": 6,
     "metadata": {},
     "output_type": "execute_result"
    }
   ],
   "source": [
    "# all of the supported accents\n",
    "sp.symbols('x xdot xddot xdddot xddddot xvec xbar xtilde' +\n",
    "           ' xcheck xbreve xhat xacute xgrave xprime xprm xmathring')"
   ]
  },
  {
   "cell_type": "markdown",
   "metadata": {},
   "source": [
    "a few others as type faces:"
   ]
  },
  {
   "cell_type": "code",
   "execution_count": 7,
   "metadata": {},
   "outputs": [
    {
     "data": {
      "text/latex": [
       "$$\\left ( X, \\quad \\boldsymbol{X}, \\quad \\boldsymbol{X}, \\quad \\mathcal{X}, \\quad \\mathscr{X}, \\quad \\mathfrak{X}\\right )$$"
      ],
      "text/plain": [
       "(X, Xbold, Xbm, Xcal, Xscr, Xfrak)"
      ]
     },
     "execution_count": 7,
     "metadata": {},
     "output_type": "execute_result"
    }
   ],
   "source": [
    "# the cal typeface only has capital letters\n",
    "sp.symbols('X Xbold Xbm Xcal Xscr Xfrak')"
   ]
  },
  {
   "cell_type": "markdown",
   "metadata": {},
   "source": [
    "and a few others as brackets:"
   ]
  },
  {
   "cell_type": "code",
   "execution_count": 8,
   "metadata": {},
   "outputs": [
    {
     "data": {
      "image/png": "[encoded data removed]",
      "text/latex": [
       "$$\\left ( \\phi, \\quad \\left\\|{\\phi}\\right\\|, \\quad \\left\\langle{\\phi}\\right\\rangle, \\quad \\left|{\\phi}\\right|, \\quad \\left|{\\phi}\\right|\\right )$$"
      ],
      "text/plain": [
       "(φ, ‖φ‖, ⟨φ⟩, |φ|, |φ|)"
      ]
     },
     "execution_count": 8,
     "metadata": {},
     "output_type": "execute_result"
    }
   ],
   "source": [
    "sp.symbols('phi phinorm phiavg phiabs phimag')"
   ]
  },
  {
   "cell_type": "markdown",
   "metadata": {},
   "source": [
    "These modifiers can be chained, though not all combinations will produce visually distinct output."
   ]
  },
  {
   "cell_type": "code",
   "execution_count": 9,
   "metadata": {},
   "outputs": [
    {
     "data": {
      "image/png": "[encoded data removed]",
      "text/latex": [
       "$$\\vec{{\\boldsymbol{\\mathcal{S}}}'}$$"
      ],
      "text/plain": [
       "Scalbold′⃗"
      ]
     },
     "execution_count": 9,
     "metadata": {},
     "output_type": "execute_result"
    }
   ],
   "source": [
    "sp.symbols('Scalboldprimevec')"
   ]
  },
  {
   "cell_type": "markdown",
   "metadata": {},
   "source": [
    "Also, order matters. The parser works from the end of the name backward, so whatever goes last will be applied to the most of the expression."
   ]
  },
  {
   "cell_type": "code",
   "execution_count": 10,
   "metadata": {},
   "outputs": [
    {
     "data": {
      "image/png": "[encoded data removed]",
      "text/latex": [
       "$$\\left ( {\\boldsymbol{\\vec{\\mathcal{S}}}}', \\quad \\vec{{\\boldsymbol{\\mathcal{S}}}'}, \\quad \\boldsymbol{\\vec{{\\mathcal{S}}'}}\\right )$$"
      ],
      "text/plain": [
       "(Scalvecbold′, Scalbold′⃗, Scalprimevecbold)"
      ]
     },
     "execution_count": 10,
     "metadata": {},
     "output_type": "execute_result"
    }
   ],
   "source": [
    "sp.symbols('Scalvecboldprime Scalboldprimevec Scalprimevecbold')"
   ]
  },
  {
   "cell_type": "markdown",
   "metadata": {},
   "source": [
    "And, speaking of working backward, I can now tie this back to the beginning of this post: working on Electricity and Magnetism problems. It is often the case that one needs to keep track of a source point (usually called $\\mathbf{r}'$), a field point (usually called $\\mathbf{r}$) and a *separation vector*, which is the difference between the two. Griffiths uses a cursive 'r' for this last vector, but the symbol he uses does not appear in any of the $\\LaTeX$ symbol tables. On [his website](https://www.reed.edu/physics/faculty/griffiths.html), he provides some image files which can be used to produce the symbol, but that won't work for seamlessly in `sympy`. Careful choice of symbol names does give us some options, however.\n",
    "\n",
    "Standard practice is to use the same letter for a vector and its length, but have the vector typeset in upright bold and the length in normal weight italics. That convention bends a little bit in `sympy` symbol names, because $\\boldsymbol{r}$ and $\\mathbf{r}$ are different, and the former is what you get when you call a symbol `rbold` or `rbm`. You can't get $\\mathbf{r}$ without some additional customization."
   ]
  },
  {
   "cell_type": "code",
   "execution_count": 11,
   "metadata": {},
   "outputs": [
    {
     "data": {
      "text/latex": [
       "$$\\left ( \\mathscr{r}, \\quad \\boldsymbol{\\mathscr{r}}, \\quad \\mathfrak{r}, \\quad \\boldsymbol{\\mathfrak{r}}, \\quad \\left|{\\mathfrak{r}}\\right|, \\quad \\vec{r}, \\quad \\boldsymbol{r}, \\quad {r}', \\quad {\\boldsymbol{r}}'\\right )$$"
      ],
      "text/plain": [
       "(rscr, rscrbold, rfrak, rfrakbold, |rfrak|, r⃗, rbm, r′, rbm′)"
      ]
     },
     "execution_count": 11,
     "metadata": {},
     "output_type": "execute_result"
    }
   ],
   "source": [
    "sp.symbols('rscr rscrbold rfrak rfrakbold rfrakabs rvec rbm rprime rbmprime')"
   ]
  },
  {
   "cell_type": "markdown",
   "metadata": {},
   "source": [
    "In the problem I was working, I chose to use $\\mathfrak{r}$ for the separation vector and $|\\mathfrak{r}|$ for its length, but looking at all of my options now, I probably should have chosen $\\mathscr{r}$ for the length and $\\boldsymbol{\\mathscr{r}}$ (or maybe even $\\vec{\\mathscr{r}}$) for the vector."
   ]
  }
 ],
 "metadata": {
  "kernelspec": {
   "display_name": "Python 3",
   "language": "python",
   "name": "python3"
  },
  "language_info": {
   "codemirror_mode": {
    "name": "ipython",
    "version": 3
   },
   "file_extension": ".py",
   "mimetype": "text/x-python",
   "name": "python",
   "nbconvert_exporter": "python",
   "pygments_lexer": "ipython3",
   "version": "3.5.3"
  }
 },
 "nbformat": 4,
 "nbformat_minor": 2
}
