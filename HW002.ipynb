{
 "cells": [
  {
   "cell_type": "code",
   "execution_count": 4,
   "metadata": {
    "collapsed": true
   },
   "outputs": [],
   "source": [
    "import sympy as sp\n",
    "from sympy import vector\n",
    "\n",
    "sp.init_printing()"
   ]
  },
  {
   "cell_type": "markdown",
   "metadata": {},
   "source": [
    "### Problem 1.25"
   ]
  },
  {
   "cell_type": "code",
   "execution_count": null,
   "metadata": {
    "collapsed": true
   },
   "outputs": [],
   "source": []
  },
  {
   "cell_type": "markdown",
   "metadata": {},
   "source": [
    "### Problem 1.26\n"
   ]
  },
  {
   "cell_type": "code",
   "execution_count": null,
   "metadata": {
    "collapsed": true
   },
   "outputs": [],
   "source": []
  },
  {
   "cell_type": "markdown",
   "metadata": {},
   "source": [
    "### Problem 1.31\n",
    "\n",
    "Calculate the volume integral of the function $T=z^2$ over the tetrahedron with corners at $(0,0,0)$, $(1,0,0)$, $(0,1,0)$, and $(0,0,1)$"
   ]
  },
  {
   "cell_type": "code",
   "execution_count": null,
   "metadata": {
    "collapsed": true
   },
   "outputs": [],
   "source": []
  },
  {
   "cell_type": "markdown",
   "metadata": {},
   "source": [
    "### Problem 1.33\n",
    "\n",
    "Test the divergence theorem for the function $\\mathbf{v} = (xy)\\hat{\\mathbf{x}} + (2yz)\\hat{\\mathbf{y}} + (3zx)\\hat{\\mathbf{z}}$. Take as your volume the cube shown in fig. 1.30, with sides of length 2."
   ]
  },
  {
   "cell_type": "code",
   "execution_count": 5,
   "metadata": {},
   "outputs": [
    {
     "data": {
      "image/png": "[encoded data removed]",
      "text/latex": [
       "$$({x}_{} {y}_{})\\mathbf{\\hat{x}_{}} + (2 {y}_{} {z}_{})\\mathbf{\\hat{y}_{}} + (3 {x}_{} {z}_{})\\mathbf{\\hat{z}_{}}$$"
      ],
      "text/plain": [
       "(_x⋅_y) _x + (2⋅_y⋅_z) _y + (3⋅_x⋅_z) _z"
      ]
     },
     "execution_count": 5,
     "metadata": {},
     "output_type": "execute_result"
    }
   ],
   "source": [
    "C = vector.CoordSys3D('', vector_names=['x', \"y\", \"z\"],\n",
    "                     variable_names=['x', \"y\", \"z\"])\n",
    "\n",
    "xhat = C.i\n",
    "yhat = C.j\n",
    "zhat = C.k\n",
    "x = C.x\n",
    "y = C.y\n",
    "z = C.z\n",
    "\n",
    "v = x*y*xhat + 2*y*z*yhat + 3*z*x*zhat\n",
    "v"
   ]
  },
  {
   "cell_type": "code",
   "execution_count": 7,
   "metadata": {},
   "outputs": [
    {
     "data": {
      "image/png": "[encoded data removed]",
      "text/latex": [
       "$$48$$"
      ],
      "text/plain": [
       "48"
      ]
     },
     "execution_count": 7,
     "metadata": {},
     "output_type": "execute_result"
    }
   ],
   "source": [
    "div_v = vector.divergence(v)\n",
    "vol_integral = sp.integrate(sp.integrate(sp.integrate(div_v, \n",
    "                                                      (x,0,2)), \n",
    "                                         (y, 0, 2)), \n",
    "                            (z, 0, 2))\n",
    "vol_integral"
   ]
  },
  {
   "cell_type": "code",
   "execution_count": 9,
   "metadata": {},
   "outputs": [
    {
     "data": {
      "image/png": "[encoded data removed]",
      "text/latex": [
       "$$48$$"
      ],
      "text/plain": [
       "48"
      ]
     },
     "execution_count": 9,
     "metadata": {},
     "output_type": "execute_result"
    }
   ],
   "source": [
    "top = sp.integrate(sp.integrate( v.dot(zhat), (x, 0,2)), (y,0,2)).subs(z, 2)\n",
    "bottom = -sp.integrate(sp.integrate( v.dot(zhat), (x, 0,2)), (y,0,2)).subs(z, 0)\n",
    "front = sp.integrate(sp.integrate( v.dot(zhat), (z, 0,2)), (y,0,2)).subs(x, 2)\n",
    "back = -sp.integrate(sp.integrate( v.dot(zhat), (z, 0,2)), (y,0,2)).subs(x, 0)\n",
    "left = -sp.integrate(sp.integrate( v.dot(zhat), (x, 0,2)), (z,0,2)).subs(y, 0)\n",
    "right = sp.integrate(sp.integrate( v.dot(zhat), (x, 0,2)), (z,0,2)).subs(y, 2)\n",
    "\n",
    "surface_integral = top+bottom+left+right+front+back\n",
    "surface_integral"
   ]
  },
  {
   "cell_type": "code",
   "execution_count": 10,
   "metadata": {},
   "outputs": [
    {
     "data": {
      "text/plain": [
       "True"
      ]
     },
     "execution_count": 10,
     "metadata": {},
     "output_type": "execute_result"
    }
   ],
   "source": [
    "vol_integral == surface_integral"
   ]
  },
  {
   "cell_type": "code",
   "execution_count": null,
   "metadata": {
    "collapsed": true
   },
   "outputs": [],
   "source": []
  },
  {
   "cell_type": "markdown",
   "metadata": {},
   "source": [
    "### Problem 1.34\n",
    "Test Stokes' theorem for the function $\\mathbf{v} = (xy)\\hat{\\mathbf{x}} + (2yz)\\hat{\\mathbf{y}} + (3zx)\\hat{\\mathbf{z}}$, using the triangular shaded area of fig. 1.34\n",
    "\n",
    "---\n",
    "#### Solution:\n",
    "$\\mathbf{v}$ is the same as in the last problem, so we can reuse it. "
   ]
  },
  {
   "cell_type": "code",
   "execution_count": 13,
   "metadata": {},
   "outputs": [
    {
     "data": {
      "image/png": "[encoded data removed]",
      "text/latex": [
       "$$- \\frac{8}{3}$$"
      ],
      "text/plain": [
       "-8/3"
      ]
     },
     "execution_count": 13,
     "metadata": {},
     "output_type": "execute_result"
    }
   ],
   "source": [
    "curl_v = vector.curl(v)\n",
    "surface_integral = sp.integrate(sp.integrate(curl_v.dot(xhat),\n",
    "                                             (y, 0, z)),\n",
    "                                (z, 0, 2)).subs(x, 0)\n",
    "surface_integral"
   ]
  },
  {
   "cell_type": "code",
   "execution_count": 16,
   "metadata": {},
   "outputs": [
    {
     "data": {
      "image/png": "[encoded data removed]",
      "text/latex": [
       "$$- \\frac{8}{3}$$"
      ],
      "text/plain": [
       "-8/3"
      ]
     },
     "execution_count": 16,
     "metadata": {},
     "output_type": "execute_result"
    }
   ],
   "source": [
    "horiz = sp.integrate(v.dot(yhat), (y, 0, 2)).subs({x:0, z:0})\n",
    "hyp = sp.integrate(v.dot(zhat-yhat).subs(y, 2-z) , (z, 0, 2)).subs(x, 0)\n",
    "vert = - sp.integrate(v.dot(zhat), (z, 2, 0)).subs({x:0, y:0})\n",
    "\n",
    "line_integral = horiz + hyp + vert\n",
    "line_integral"
   ]
  },
  {
   "cell_type": "code",
   "execution_count": 17,
   "metadata": {},
   "outputs": [
    {
     "data": {
      "text/plain": [
       "True"
      ]
     },
     "execution_count": 17,
     "metadata": {},
     "output_type": "execute_result"
    }
   ],
   "source": [
    "line_integral == surface_integral"
   ]
  },
  {
   "cell_type": "code",
   "execution_count": null,
   "metadata": {
    "collapsed": true
   },
   "outputs": [],
   "source": []
  }
 ],
 "metadata": {
  "kernelspec": {
   "display_name": "Python 3",
   "language": "python",
   "name": "python3"
  },
  "language_info": {
   "codemirror_mode": {
    "name": "ipython",
    "version": 3
   },
   "file_extension": ".py",
   "mimetype": "text/x-python",
   "name": "python",
   "nbconvert_exporter": "python",
   "pygments_lexer": "ipython3",
   "version": "3.5.3"
  }
 },
 "nbformat": 4,
 "nbformat_minor": 2
}
