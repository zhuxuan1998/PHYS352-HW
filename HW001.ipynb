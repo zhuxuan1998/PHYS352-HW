{
 "cells": [
  {
   "cell_type": "markdown",
   "metadata": {},
   "source": [
    "### Problem 1.3  Find the angle between the body diagonals of a cube."
   ]
  },
  {
   "cell_type": "markdown",
   "metadata": {
    "collapsed": true
   },
   "source": [
    "Find the angle between the body diagonals of a cube"
   ]
  },
  {
   "cell_type": "code",
   "execution_count": 109,
   "metadata": {
    "collapsed": true
   },
   "outputs": [],
   "source": [
    "import sympy as sp\n",
    "\n",
    "sp.init_printing()"
   ]
  },
  {
   "cell_type": "code",
   "execution_count": 110,
   "metadata": {
    "collapsed": false
   },
   "outputs": [],
   "source": [
    "a, b = sp.symbols ('a b')\n",
    "theta = sp. symbols ('theta')"
   ]
  },
  {
   "cell_type": "code",
   "execution_count": 111,
   "metadata": {
    "collapsed": false
   },
   "outputs": [],
   "source": [
    "a = (1,1,1)"
   ]
  },
  {
   "cell_type": "code",
   "execution_count": 112,
   "metadata": {
    "collapsed": true
   },
   "outputs": [],
   "source": [
    "b = (-1,1,1)"
   ]
  },
  {
   "cell_type": "code",
   "execution_count": 113,
   "metadata": {
    "collapsed": false
   },
   "outputs": [
    {
     "data": {
      "image/png": "[encoded data removed]",
      "text/latex": [
       "$$1$$"
      ],
      "text/plain": [
       "1"
      ]
     },
     "execution_count": 113,
     "metadata": {},
     "output_type": "execute_result"
    }
   ],
   "source": [
    "from sympy import Matrix \n",
    "a = Matrix([[1,1,1]])\n",
    "b = Matrix([[-1,1,1]])\n",
    "n = a.dot(b)\n",
    "n"
   ]
  },
  {
   "cell_type": "code",
   "execution_count": 114,
   "metadata": {
    "collapsed": false
   },
   "outputs": [
    {
     "data": {
      "image/png": "[encoded data removed]",
      "text/latex": [
       "$$\\sqrt{3}$$"
      ],
      "text/plain": [
       "√3"
      ]
     },
     "execution_count": 114,
     "metadata": {},
     "output_type": "execute_result"
    }
   ],
   "source": [
    "L_a = sp.sqrt(a.dot(a))\n",
    "L_a"
   ]
  },
  {
   "cell_type": "code",
   "execution_count": 115,
   "metadata": {
    "collapsed": false
   },
   "outputs": [
    {
     "data": {
      "image/png": "[encoded data removed]",
      "text/latex": [
       "$$\\sqrt{3}$$"
      ],
      "text/plain": [
       "√3"
      ]
     },
     "execution_count": 115,
     "metadata": {},
     "output_type": "execute_result"
    }
   ],
   "source": [
    "L_b = sp.sqrt(b.dot(b))\n",
    "L_b"
   ]
  },
  {
   "cell_type": "code",
   "execution_count": 116,
   "metadata": {
    "collapsed": false
   },
   "outputs": [
    {
     "data": {
      "image/png": "[encoded data removed]",
      "text/latex": [
       "$$\\operatorname{acos}{\\left (\\frac{1}{3} \\right )}$$"
      ],
      "text/plain": [
       "acos(1/3)"
      ]
     },
     "execution_count": 116,
     "metadata": {},
     "output_type": "execute_result"
    }
   ],
   "source": [
    "theta = sp.acos(n/(L_a*L_b))\n",
    "theta"
   ]
  },
  {
   "cell_type": "markdown",
   "metadata": {},
   "source": [
    "### Problem 1.5 Prove the BAC - CAB rule by writing out both sides in component form."
   ]
  },
  {
   "cell_type": "code",
   "execution_count": 117,
   "metadata": {
    "collapsed": false
   },
   "outputs": [],
   "source": [
    "A_m, A_i, A_j, A_k = sp.symbols('A_m A_i A_j A_k')\n",
    "B_j, B_k, B_l = sp.symbols('B_j B_k B_l')\n",
    "C_m, C_j, C_k = sp.symbols('C_m, C_j C_k')\n",
    "epsijk, epslim, epsklm = sp.symbols('epsilon_ijk epsilon_lim epsilon_klm')\n",
    "deltajm, deltakl, deltajl, deltakm = sp.symbols('delta_jm delta_kl delta_jl delta_km')\n",
    "deltami, deltali = sp.symbols('delta_mi delta_li')"
   ]
  },
  {
   "cell_type": "code",
   "execution_count": 118,
   "metadata": {
    "collapsed": false
   },
   "outputs": [
    {
     "data": {
      "image/png": "[encoded data removed]",
      "text/latex": [
       "$$A_{j} B_{l} C_{m} \\epsilon_{ijk} \\epsilon_{klm}$$"
      ],
      "text/plain": [
       "A_j⋅B_l⋅C_m⋅ε_ijk⋅ε_klm"
      ]
     },
     "execution_count": 118,
     "metadata": {},
     "output_type": "execute_result"
    }
   ],
   "source": [
    "lhs_1 = epsijk*A_j*epsklm*B_l*C_m\n",
    "lhs_1"
   ]
  },
  {
   "cell_type": "code",
   "execution_count": 119,
   "metadata": {
    "collapsed": false
   },
   "outputs": [
    {
     "data": {
      "image/png": "[encoded data removed]",
      "text/latex": [
       "$$- A_{j} B_{l} C_{m} \\delta_{jl} \\delta_{mi} + A_{j} B_{l} C_{m} \\delta_{jm} \\delta_{li}$$"
      ],
      "text/plain": [
       "-A_j⋅B_l⋅C_m⋅δ_jl⋅δ_mi + A_j⋅B_l⋅C_m⋅δ_jm⋅δ_li"
      ]
     },
     "execution_count": 119,
     "metadata": {},
     "output_type": "execute_result"
    }
   ],
   "source": [
    "lhs_2 = lhs_1.subs(epsklm*epsijk, deltali*deltajm - deltami*deltajl).expand()\n",
    "lhs_2"
   ]
  },
  {
   "cell_type": "code",
   "execution_count": 120,
   "metadata": {
    "collapsed": false
   },
   "outputs": [
    {
     "data": {
      "image/png": "[encoded data removed]",
      "text/latex": [
       "$$- A_{j} B_{j} C_{m} + A_{j} B_{l} C_{j}$$"
      ],
      "text/plain": [
       "-A_j⋅B_j⋅C_m + A_j⋅B_l⋅C_j"
      ]
     },
     "execution_count": 120,
     "metadata": {},
     "output_type": "execute_result"
    }
   ],
   "source": [
    "lhs_3 = lhs_2.subs(deltajl*B_l, B_j).subs(deltami*C_m, C_m).subs(deltajm*C_m, C_j).subs(deltali*B_l, B_l)\n",
    "lhs_3"
   ]
  },
  {
   "cell_type": "markdown",
   "metadata": {},
   "source": [
    "##translating back to vector notation, we have\n",
    "(A⋅C)B−(B⋅A)C"
   ]
  },
  {
   "cell_type": "markdown",
   "metadata": {},
   "source": [
    "### Problem 1.7 Find the separation vector rfrak from the source point (2,8,7) to the field point (4,6,8). Determine its magnitude (rfrak), and construct the unit vector rfrakhat"
   ]
  },
  {
   "cell_type": "code",
   "execution_count": 121,
   "metadata": {
    "collapsed": false
   },
   "outputs": [
    {
     "data": {
      "text/latex": [
       "$$\\mathfrak{r} = \\left[\\begin{matrix}2 & -2 & 1\\end{matrix}\\right]$$"
      ],
      "text/plain": [
       "rfrak = [2  -2  1]"
      ]
     },
     "execution_count": 121,
     "metadata": {},
     "output_type": "execute_result"
    }
   ],
   "source": [
    "rfrak, rfrakabs, rfrakhat = sp.symbols('rfrak rfrakabs rfrakhat')\n",
    "\n",
    "r = sp.Matrix([[4,6,8]])\n",
    "rprime = sp.Matrix([[2,8,7]])\n",
    "scriptr = r - rprime\n",
    "sp.Eq(rfrak, scriptr, evaluate=False)"
   ]
  },
  {
   "cell_type": "code",
   "execution_count": 122,
   "metadata": {
    "collapsed": false
   },
   "outputs": [
    {
     "data": {
      "image/png": "[encoded data removed]",
      "text/latex": [
       "$$\\left|{\\mathfrak{r}}\\right| = 3$$"
      ],
      "text/plain": [
       "|rfrak| = 3"
      ]
     },
     "execution_count": 122,
     "metadata": {},
     "output_type": "execute_result"
    }
   ],
   "source": [
    "magnitude = sp.sqrt(scriptr.dot(scriptr))\n",
    "sp.Eq(rfrakabs, magnitude, evaluate=False)"
   ]
  },
  {
   "cell_type": "code",
   "execution_count": 123,
   "metadata": {
    "collapsed": false
   },
   "outputs": [
    {
     "data": {
      "text/latex": [
       "$$\\hat{\\mathfrak{r}} = \\left[\\begin{matrix}\\frac{2}{3} & - \\frac{2}{3} & \\frac{1}{3}\\end{matrix}\\right]$$"
      ],
      "text/plain": [
       "rfrak̂ = [2/3  -2/3  1/3]"
      ]
     },
     "execution_count": 123,
     "metadata": {},
     "output_type": "execute_result"
    }
   ],
   "source": [
    "a = scriptr/magnitude\n",
    "sp.Eq(rfrakhat, a, evaluate=False)"
   ]
  },
  {
   "cell_type": "markdown",
   "metadata": {},
   "source": [
    "### Problem 1.11 Find the gradients of the following fuctions:"
   ]
  },
  {
   "cell_type": "code",
   "execution_count": 124,
   "metadata": {
    "collapsed": false
   },
   "outputs": [],
   "source": [
    "x, y, z, e = sp.symbols('x y z e')\n",
    "def gradient(expr):\n",
    "    return sp.Matrix([[expr.diff(x), expr.diff(y), expr.diff(z)]])"
   ]
  },
  {
   "cell_type": "code",
   "execution_count": null,
   "metadata": {
    "collapsed": false
   },
   "outputs": [],
   "source": []
  },
  {
   "cell_type": "code",
   "execution_count": 125,
   "metadata": {
    "collapsed": false
   },
   "outputs": [
    {
     "data": {
      "text/latex": [
       "$$\\left[\\begin{matrix}2 x & 3 y^{2} & 4 z^{3}\\end{matrix}\\right]$$"
      ],
      "text/plain": [
       "⎡        2     3⎤\n",
       "⎣2⋅x  3⋅y   4⋅z ⎦"
      ]
     },
     "execution_count": 125,
     "metadata": {},
     "output_type": "execute_result"
    }
   ],
   "source": [
    "result_a = gradient(x**2+y**3+z**4)\n",
    "result_a"
   ]
  },
  {
   "cell_type": "code",
   "execution_count": 126,
   "metadata": {
    "collapsed": false
   },
   "outputs": [
    {
     "data": {
      "text/latex": [
       "$$\\left[\\begin{matrix}2 x y^{3} z^{4} & 3 x^{2} y^{2} z^{4} & 4 x^{2} y^{3} z^{3}\\end{matrix}\\right]$$"
      ],
      "text/plain": [
       "⎡     3  4     2  2  4     2  3  3⎤\n",
       "⎣2⋅x⋅y ⋅z   3⋅x ⋅y ⋅z   4⋅x ⋅y ⋅z ⎦"
      ]
     },
     "execution_count": 126,
     "metadata": {},
     "output_type": "execute_result"
    }
   ],
   "source": [
    "result_b = gradient(x**2*y**3*z**4)\n",
    "result_b"
   ]
  },
  {
   "cell_type": "code",
   "execution_count": 127,
   "metadata": {
    "collapsed": false
   },
   "outputs": [
    {
     "data": {
      "text/latex": [
       "$$\\left[\\begin{matrix}e^{x} \\log{\\left (e \\right )} \\log{\\left (z \\right )} \\sin{\\left (y \\right )} & e^{x} \\log{\\left (z \\right )} \\cos{\\left (y \\right )} & \\frac{e^{x}}{z} \\sin{\\left (y \\right )}\\end{matrix}\\right]$$"
      ],
      "text/plain": [
       "⎡                                            x       ⎤\n",
       "⎢ x                        x                e ⋅sin(y)⎥\n",
       "⎢e ⋅log(e)⋅log(z)⋅sin(y)  e ⋅log(z)⋅cos(y)  ─────────⎥\n",
       "⎣                                               z    ⎦"
      ]
     },
     "execution_count": 127,
     "metadata": {},
     "output_type": "execute_result"
    }
   ],
   "source": [
    "result_c = gradient(e**x*sp.sin(y)*sp.ln(z))\n",
    "result_c"
   ]
  },
  {
   "cell_type": "markdown",
   "metadata": {},
   "source": [
    "### Problem 1.15 Calculate the divergence of the following vector functions"
   ]
  },
  {
   "cell_type": "code",
   "execution_count": 128,
   "metadata": {
    "collapsed": true
   },
   "outputs": [],
   "source": [
    "def cartesian_div(vector_field):\n",
    "    \n",
    "    x,y,z = sp.symbols('x y z')\n",
    "    \n",
    "    return sp.diff(vector_field[0], x) + sp.diff(vector_field[1], y) + sp.diff(vector_field[2], z)"
   ]
  },
  {
   "cell_type": "code",
   "execution_count": 129,
   "metadata": {
    "collapsed": false
   },
   "outputs": [
    {
     "data": {
      "image/png": "[encoded data removed]",
      "text/latex": [
       "$$0$$"
      ],
      "text/plain": [
       "0"
      ]
     },
     "execution_count": 129,
     "metadata": {},
     "output_type": "execute_result"
    }
   ],
   "source": [
    "v_a = sp.Matrix([[x**2,3*x*z**2,-2*x*z]])\n",
    "result_a = cartesian_div(v_a)\n",
    "result_a"
   ]
  },
  {
   "cell_type": "code",
   "execution_count": 130,
   "metadata": {
    "collapsed": false
   },
   "outputs": [
    {
     "data": {
      "image/png": "[encoded data removed]",
      "text/latex": [
       "$$3 x + y + 2 z$$"
      ],
      "text/plain": [
       "3⋅x + y + 2⋅z"
      ]
     },
     "execution_count": 130,
     "metadata": {},
     "output_type": "execute_result"
    }
   ],
   "source": [
    "v_b = sp.Matrix([[x*y, 2*y*z, 3*z*x]])\n",
    "result_b = cartesian_div(v_b)\n",
    "result_b"
   ]
  },
  {
   "cell_type": "code",
   "execution_count": 131,
   "metadata": {
    "collapsed": false
   },
   "outputs": [
    {
     "data": {
      "image/png": "[encoded data removed]",
      "text/latex": [
       "$$2 x + 2 y$$"
      ],
      "text/plain": [
       "2⋅x + 2⋅y"
      ]
     },
     "execution_count": 131,
     "metadata": {},
     "output_type": "execute_result"
    }
   ],
   "source": [
    "v_c = sp.Matrix([[y**2, 2*x*y+z**2, 2*y*z]])\n",
    "result_c = cartesian_div(v_c)\n",
    "result_c"
   ]
  },
  {
   "cell_type": "markdown",
   "metadata": {},
   "source": [
    "### Problem 1.18 Calculate the curls of the vector functions in Pro. 1.15."
   ]
  },
  {
   "cell_type": "code",
   "execution_count": 132,
   "metadata": {
    "collapsed": false
   },
   "outputs": [],
   "source": [
    "def curl(vec):\n",
    "    \n",
    "    x,y,z = sp.symbols('x y z')\n",
    "    \n",
    "    curl_x = sp.diff(vec[2], y ) - sp.diff(vec[1],z)\n",
    "    \n",
    "    curl_y = sp.diff(vec[0], z) - sp.diff(vec[2], x)\n",
    "    \n",
    "    curl_z = sp.diff(vec[1] ,x) -sp.diff(vec[0], y )\n",
    "    \n",
    "    return sp.Matrix([[curl_x, curl_y, curl_z]])"
   ]
  },
  {
   "cell_type": "code",
   "execution_count": 133,
   "metadata": {
    "collapsed": false
   },
   "outputs": [
    {
     "data": {
      "text/latex": [
       "$$\\left[\\begin{matrix}- 6 x z & 2 z & 3 z^{2}\\end{matrix}\\right]$$"
      ],
      "text/plain": [
       "⎡                2⎤\n",
       "⎣-6⋅x⋅z  2⋅z  3⋅z ⎦"
      ]
     },
     "execution_count": 133,
     "metadata": {},
     "output_type": "execute_result"
    }
   ],
   "source": [
    "result_A = curl(sp.Matrix([x**2, 3*x*z**2, -2*x*z]))\n",
    "result_A"
   ]
  },
  {
   "cell_type": "code",
   "execution_count": 134,
   "metadata": {
    "collapsed": false
   },
   "outputs": [
    {
     "data": {
      "text/latex": [
       "$$\\left[\\begin{matrix}- 2 y & - 3 z & - x\\end{matrix}\\right]$$"
      ],
      "text/plain": [
       "[-2⋅y  -3⋅z  -x]"
      ]
     },
     "execution_count": 134,
     "metadata": {},
     "output_type": "execute_result"
    }
   ],
   "source": [
    "result_B = curl(sp.Matrix([x*y, 2*y*z, 3*z*x]))\n",
    "result_B"
   ]
  },
  {
   "cell_type": "code",
   "execution_count": 135,
   "metadata": {
    "collapsed": false
   },
   "outputs": [
    {
     "ename": "SyntaxError",
     "evalue": "invalid syntax (<ipython-input-135-a1f0aeb3feb6>, line 2)",
     "output_type": "error",
     "traceback": [
      "\u001b[0;36m  File \u001b[0;32m\"<ipython-input-135-a1f0aeb3feb6>\"\u001b[0;36m, line \u001b[0;32m2\u001b[0m\n\u001b[0;31m    result_1\u001b[0m\n\u001b[0m           ^\u001b[0m\n\u001b[0;31mSyntaxError\u001b[0m\u001b[0;31m:\u001b[0m invalid syntax\n"
     ]
    }
   ],
   "source": [
    "result_1 = curl(sp.Matrix([y**2, 2*x*y+z**2,2*y*z])\n",
    "result_1"
   ]
  },
  {
   "cell_type": "code",
   "execution_count": null,
   "metadata": {
    "collapsed": true
   },
   "outputs": [],
   "source": []
  },
  {
   "cell_type": "code",
   "execution_count": null,
   "metadata": {
    "collapsed": true
   },
   "outputs": [],
   "source": []
  }
 ],
 "metadata": {
  "kernelspec": {
   "display_name": "Python 2",
   "language": "python",
   "name": "python2"
  },
  "language_info": {
   "codemirror_mode": {
    "name": "ipython",
    "version": 2
   },
   "file_extension": ".py",
   "mimetype": "text/x-python",
   "name": "python",
   "nbconvert_exporter": "python",
   "pygments_lexer": "ipython2",
   "version": "2.7.13"
  }
 },
 "nbformat": 4,
 "nbformat_minor": 2
}
