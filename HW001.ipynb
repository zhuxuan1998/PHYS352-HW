{
 "cells": [
  {
   "cell_type": "code",
   "execution_count": 1,
   "metadata": {
    "collapsed": true
   },
   "outputs": [],
   "source": [
    "import sympy as sp\n",
    "import numpy as np\n",
    "sp.init_printing()\n",
    "\n",
    "# for more flexibility in formatting answers\n",
    "from IPython.display import Math, Latex"
   ]
  },
  {
   "cell_type": "markdown",
   "metadata": {},
   "source": [
    "### Problem 1.3\n",
    "\n",
    "Find the angle between the diagonals of a cube.\n",
    "\n",
    "---\n",
    "#### Solution:\n",
    "\n",
    "We represent the diagonals of the cube as two vectors:"
   ]
  },
  {
   "cell_type": "code",
   "execution_count": 2,
   "metadata": {
    "collapsed": true
   },
   "outputs": [],
   "source": [
    "D_1 = sp.Matrix([[1,1,1]])\n",
    "D_2 = sp.Matrix([[-1,1,1]])"
   ]
  },
  {
   "cell_type": "markdown",
   "metadata": {},
   "source": [
    "Then we take the dot product and note that $$\\mathbf{D}_1\\cdot\\mathbf{D}_2 = D_1 D_2 \\cos(\\theta).$$"
   ]
  },
  {
   "cell_type": "code",
   "execution_count": 3,
   "metadata": {},
   "outputs": [
    {
     "data": {
      "image/png": "[encoded data removed]",
      "text/latex": [
       "$$1 = D_{1} D_{2} \\cos{\\left (\\theta \\right )}$$"
      ],
      "text/plain": [
       "1 = D₁⋅D₂⋅cos(θ)"
      ]
     },
     "execution_count": 3,
     "metadata": {},
     "output_type": "execute_result"
    }
   ],
   "source": [
    "# D1 and D2 here are the magnitudes, not the vectors\n",
    "theta, D1, D2 = sp.symbols('theta D_1 D_2')\n",
    "\n",
    "sp.Eq(D_1.dot(D_2), D1*D2*sp.cos(theta))"
   ]
  },
  {
   "cell_type": "markdown",
   "metadata": {},
   "source": [
    "Solve for $\\theta$..."
   ]
  },
  {
   "cell_type": "code",
   "execution_count": 4,
   "metadata": {},
   "outputs": [
    {
     "data": {
      "image/png": "[encoded data removed]",
      "text/latex": [
       "$$\\left [ - \\operatorname{acos}{\\left (\\frac{1}{D_{1} D_{2}} \\right )} + 2 \\pi, \\quad \\operatorname{acos}{\\left (\\frac{1}{D_{1} D_{2}} \\right )}\\right ]$$"
      ],
      "text/plain": [
       "⎡      ⎛  1  ⎞            ⎛  1  ⎞⎤\n",
       "⎢- acos⎜─────⎟ + 2⋅π, acos⎜─────⎟⎥\n",
       "⎣      ⎝D₁⋅D₂⎠            ⎝D₁⋅D₂⎠⎦"
      ]
     },
     "execution_count": 4,
     "metadata": {},
     "output_type": "execute_result"
    }
   ],
   "source": [
    "sp.solve(sp.Eq(D_1.dot(D_2), D1*D2*sp.cos(theta)), theta)"
   ]
  },
  {
   "cell_type": "markdown",
   "metadata": {},
   "source": [
    "The inverse cosine is multivalued, which is why we have multiple solutions here. We want the second one."
   ]
  },
  {
   "cell_type": "code",
   "execution_count": 5,
   "metadata": {},
   "outputs": [
    {
     "data": {
      "image/png": "[encoded data removed]",
      "text/latex": [
       "$$\\theta = \\operatorname{acos}{\\left (\\frac{1}{D_{1} D_{2}} \\right )}$$"
      ],
      "text/plain": [
       "        ⎛  1  ⎞\n",
       "θ = acos⎜─────⎟\n",
       "        ⎝D₁⋅D₂⎠"
      ]
     },
     "execution_count": 5,
     "metadata": {},
     "output_type": "execute_result"
    }
   ],
   "source": [
    "ans = sp.Eq(theta, sp.solve(sp.Eq(D_1.dot(D_2), D1*D2*sp.cos(theta)), theta)[1])\n",
    "ans"
   ]
  },
  {
   "cell_type": "markdown",
   "metadata": {},
   "source": [
    "Now, turn it into a number."
   ]
  },
  {
   "cell_type": "code",
   "execution_count": 6,
   "metadata": {},
   "outputs": [
    {
     "data": {
      "image/png": "[encoded data removed]",
      "text/latex": [
       "$$\\theta = \\operatorname{acos}{\\left (\\frac{1}{3} \\right )}$$"
      ],
      "text/plain": [
       "θ = acos(1/3)"
      ]
     },
     "execution_count": 6,
     "metadata": {},
     "output_type": "execute_result"
    }
   ],
   "source": [
    "magnitudes = {D1: sp.sqrt(D_1.dot(D_1)),\n",
    "              D2: sp.sqrt(D_2.dot(D_2))}\n",
    "\n",
    "ans.subs(magnitudes)"
   ]
  },
  {
   "cell_type": "markdown",
   "metadata": {},
   "source": [
    "If we want an actual number, we can use `sp.N`:"
   ]
  },
  {
   "cell_type": "code",
   "execution_count": 7,
   "metadata": {},
   "outputs": [
    {
     "data": {
      "image/png": "[encoded data removed]",
      "text/latex": [
       "$$\\theta = 1.23095941734077$$"
      ],
      "text/plain": [
       "θ = 1.23095941734077"
      ]
     },
     "execution_count": 7,
     "metadata": {},
     "output_type": "execute_result"
    }
   ],
   "source": [
    "numerical_ans = sp.N(ans.subs(magnitudes))\n",
    "numerical_ans"
   ]
  },
  {
   "cell_type": "markdown",
   "metadata": {},
   "source": [
    "That's in radians. What does it look like in degrees?"
   ]
  },
  {
   "cell_type": "code",
   "execution_count": 8,
   "metadata": {},
   "outputs": [
    {
     "data": {
      "image/png": "[encoded data removed]",
      "text/latex": [
       "$$\\theta = 70.5287793655093$$"
      ],
      "text/plain": [
       "θ = 70.5287793655093"
      ]
     },
     "execution_count": 8,
     "metadata": {},
     "output_type": "execute_result"
    }
   ],
   "source": [
    "sp.N(sp.Eq(numerical_ans.lhs, numerical_ans.rhs * 180/sp.pi))"
   ]
  },
  {
   "cell_type": "markdown",
   "metadata": {},
   "source": [
    "---\n",
    "\n",
    "---\n",
    "\n",
    "### Problem 1.5\n",
    "\n",
    "Prove the $\\mathbf{BAC} - \\mathbf{CAB}$ rule by writing out both sides in component form.\n",
    "\n",
    "---\n",
    "#### Solution:\n",
    "\n",
    "The $\\mathbf{BAC} - \\mathbf{CAB}$ rule is $$\\mathbf{A}\\times\\left(\\mathbf{B}\\times\\mathbf{C}\\right) = \\mathbf{B}(\\mathbf{A}\\cdot\\mathbf{C}) - \\mathbf{C}(\\mathbf{A}\\cdot\\mathbf{B}).$$\n",
    "\n"
   ]
  },
  {
   "cell_type": "code",
   "execution_count": 9,
   "metadata": {
    "collapsed": true
   },
   "outputs": [],
   "source": [
    "A = sp.symbols('A_{x:z}')\n",
    "B = sp.symbols('B_{x:z}')\n",
    "C = sp.symbols('C_{x:z}')\n",
    "\n",
    "Avec = sp.Matrix([[A[0], A[1], A[2]]])\n",
    "Bvec = sp.Matrix([[B[0], B[1], B[2]]])\n",
    "Cvec = sp.Matrix([[C[0], C[1], C[2]]])"
   ]
  },
  {
   "cell_type": "code",
   "execution_count": 10,
   "metadata": {},
   "outputs": [
    {
     "data": {
      "image/png": "[encoded data removed]",
      "text/latex": [
       "$$\\left[\\begin{matrix}A_{y} \\left(B_{x} C_{y} - B_{y} C_{x}\\right) - A_{z} \\left(- B_{x} C_{z} + B_{z} C_{x}\\right)\\\\- A_{x} \\left(B_{x} C_{y} - B_{y} C_{x}\\right) + A_{z} \\left(B_{y} C_{z} - B_{z} C_{y}\\right)\\\\A_{x} \\left(- B_{x} C_{z} + B_{z} C_{x}\\right) - A_{y} \\left(B_{y} C_{z} - B_{z} C_{y}\\right)\\end{matrix}\\right]$$"
      ],
      "text/plain": [
       "⎡A_{y}⋅(B_{x}⋅C_{y} - B_{y}⋅C_{x}) - A_{z}⋅(-B_{x}⋅C_{z} + B_{z}⋅C_{x})⎤\n",
       "⎢                                                                      ⎥\n",
       "⎢-A_{x}⋅(B_{x}⋅C_{y} - B_{y}⋅C_{x}) + A_{z}⋅(B_{y}⋅C_{z} - B_{z}⋅C_{y})⎥\n",
       "⎢                                                                      ⎥\n",
       "⎣A_{x}⋅(-B_{x}⋅C_{z} + B_{z}⋅C_{x}) - A_{y}⋅(B_{y}⋅C_{z} - B_{z}⋅C_{y})⎦"
      ]
     },
     "execution_count": 10,
     "metadata": {},
     "output_type": "execute_result"
    }
   ],
   "source": [
    "lhs = Avec.cross(Bvec.cross(Cvec))\n",
    "# transpose makes it easier to read\n",
    "lhs.T"
   ]
  },
  {
   "cell_type": "code",
   "execution_count": 11,
   "metadata": {},
   "outputs": [
    {
     "data": {
      "image/png": "[encoded data removed]",
      "text/latex": [
       "$$\\left[\\begin{matrix}B_{x} \\left(A_{x} C_{x} + A_{y} C_{y} + A_{z} C_{z}\\right) - C_{x} \\left(A_{x} B_{x} + A_{y} B_{y} + A_{z} B_{z}\\right)\\\\B_{y} \\left(A_{x} C_{x} + A_{y} C_{y} + A_{z} C_{z}\\right) - C_{y} \\left(A_{x} B_{x} + A_{y} B_{y} + A_{z} B_{z}\\right)\\\\B_{z} \\left(A_{x} C_{x} + A_{y} C_{y} + A_{z} C_{z}\\right) - C_{z} \\left(A_{x} B_{x} + A_{y} B_{y} + A_{z} B_{z}\\right)\\end{matrix}\\right]$$"
      ],
      "text/plain": [
       "⎡B_{x}⋅(A_{x}⋅C_{x} + A_{y}⋅C_{y} + A_{z}⋅C_{z}) - C_{x}⋅(A_{x}⋅B_{x} + A_{y}⋅\n",
       "⎢                                                                             \n",
       "⎢B_{y}⋅(A_{x}⋅C_{x} + A_{y}⋅C_{y} + A_{z}⋅C_{z}) - C_{y}⋅(A_{x}⋅B_{x} + A_{y}⋅\n",
       "⎢                                                                             \n",
       "⎣B_{z}⋅(A_{x}⋅C_{x} + A_{y}⋅C_{y} + A_{z}⋅C_{z}) - C_{z}⋅(A_{x}⋅B_{x} + A_{y}⋅\n",
       "\n",
       "B_{y} + A_{z}⋅B_{z})⎤\n",
       "                    ⎥\n",
       "B_{y} + A_{z}⋅B_{z})⎥\n",
       "                    ⎥\n",
       "B_{y} + A_{z}⋅B_{z})⎦"
      ]
     },
     "execution_count": 11,
     "metadata": {},
     "output_type": "execute_result"
    }
   ],
   "source": [
    "rhs = Bvec*(Avec.dot(Cvec)) - Cvec*(Avec.dot(Bvec))\n",
    "rhs.T"
   ]
  },
  {
   "cell_type": "code",
   "execution_count": 12,
   "metadata": {},
   "outputs": [
    {
     "data": {
      "text/plain": [
       "False"
      ]
     },
     "execution_count": 12,
     "metadata": {},
     "output_type": "execute_result"
    }
   ],
   "source": [
    "lhs == rhs"
   ]
  },
  {
   "cell_type": "code",
   "execution_count": 13,
   "metadata": {},
   "outputs": [
    {
     "data": {
      "image/png": "[encoded data removed]",
      "text/latex": [
       "$$\\left[\\begin{matrix}0 & 0 & 0\\end{matrix}\\right]$$"
      ],
      "text/plain": [
       "[0  0  0]"
      ]
     },
     "execution_count": 13,
     "metadata": {},
     "output_type": "execute_result"
    }
   ],
   "source": [
    "sp.simplify(lhs - rhs)"
   ]
  },
  {
   "cell_type": "markdown",
   "metadata": {},
   "source": [
    "A different way, using the `vector` module:"
   ]
  },
  {
   "cell_type": "code",
   "execution_count": 14,
   "metadata": {
    "collapsed": true
   },
   "outputs": [],
   "source": [
    "from sympy.physics import vector\n",
    "import numpy as np"
   ]
  },
  {
   "cell_type": "markdown",
   "metadata": {},
   "source": [
    "The vectors from `sympy`'s `vector` module require the definition of a reference frame."
   ]
  },
  {
   "cell_type": "code",
   "execution_count": 15,
   "metadata": {
    "collapsed": true
   },
   "outputs": [],
   "source": [
    "N = vector.ReferenceFrame('N', latexs=['\\hat{\\mathbf{x}}', '\\hat{\\mathbf{y}}', '\\hat{\\mathbf{z}}'])\n",
    "\n",
    "A = sp.symbols('A_{x:z}')\n",
    "B = sp.symbols('B_{x:z}')\n",
    "C = sp.symbols('C_{x:z}')"
   ]
  },
  {
   "cell_type": "markdown",
   "metadata": {},
   "source": [
    "The `latexs` argument isn't necessary, but I don't like the default way the basis vectors of a reference frame are printed, and this fixes that.\n",
    "\n",
    "Once the reference frame is defined, we build vectors by adding products of components with the appropriate unit vectors, as we would by hand. This is a bit easier if we use elementwise multiplication of `numpy` arrays."
   ]
  },
  {
   "cell_type": "code",
   "execution_count": 16,
   "metadata": {},
   "outputs": [
    {
     "data": {
      "image/png": "[encoded data removed]",
      "text/latex": [
       "$$A_{x}\\hat{\\mathbf{x}} + A_{y}\\hat{\\mathbf{y}} + A_{z}\\hat{\\mathbf{z}}$$"
      ],
      "text/plain": [
       "A_{x} n_x + A_{y} n_y + A_{z} n_z"
      ]
     },
     "execution_count": 16,
     "metadata": {},
     "output_type": "execute_result"
    }
   ],
   "source": [
    "basis = np.array([N.x, N.y, N.z])\n",
    "\n",
    "Avec = (np.array(A)*basis).sum()\n",
    "Bvec = (np.array(B)*basis).sum()\n",
    "Cvec = (np.array(C)*basis).sum()\n",
    "\n",
    "Avec"
   ]
  },
  {
   "cell_type": "markdown",
   "metadata": {},
   "source": [
    "Cross products work the same way as they do for `Matrix`-style vectors:"
   ]
  },
  {
   "cell_type": "code",
   "execution_count": 17,
   "metadata": {},
   "outputs": [
    {
     "data": {
      "image/png": "[encoded data removed]",
      "text/latex": [
       "$$(B_{y} C_{z} - B_{z} C_{y})\\hat{\\mathbf{x}} + (- B_{x} C_{z} + B_{z} C_{x})\\hat{\\mathbf{y}} + (B_{x} C_{y} - B_{y} C_{x})\\hat{\\mathbf{z}}$$"
      ],
      "text/plain": [
       "(B_{y}⋅C_{z} - B_{z}⋅C_{y}) n_x + (-B_{x}⋅C_{z} + B_{z}⋅C_{x}) n_y + (B_{x}⋅C_{y} - B_{y}⋅C_{x}) n_z"
      ]
     },
     "execution_count": 17,
     "metadata": {},
     "output_type": "execute_result"
    }
   ],
   "source": [
    "Bvec.cross(Cvec)"
   ]
  },
  {
   "cell_type": "markdown",
   "metadata": {},
   "source": [
    "... so it's easy to build the left hand side of the BAC - CAB rule."
   ]
  },
  {
   "cell_type": "code",
   "execution_count": 18,
   "metadata": {},
   "outputs": [
    {
     "data": {
      "image/png": "[encoded data removed]",
      "text/latex": [
       "$$(A_{y} \\left(B_{x} C_{y} - B_{y} C_{x}\\right) + A_{z} \\left(B_{x} C_{z} - B_{z} C_{x}\\right))\\hat{\\mathbf{x}} + (- A_{x} \\left(B_{x} C_{y} - B_{y} C_{x}\\right) + A_{z} \\left(B_{y} C_{z} - B_{z} C_{y}\\right))\\hat{\\mathbf{y}} + (- A_{x} \\left(B_{x} C_{z} - B_{z} C_{x}\\right) - A_{y} \\left(B_{y} C_{z} - B_{z} C_{y}\\right))\\hat{\\mathbf{z}}$$"
      ],
      "text/plain": [
       "(A_{y}⋅(B_{x}⋅C_{y} - B_{y}⋅C_{x}) + A_{z}⋅(B_{x}⋅C_{z} - B_{z}⋅C_{x})) n_x + (-A_{x}⋅(B_{x}⋅C_{y} - B_{y}⋅C_{x}) + A_{z}⋅(B_{y}⋅C_{z} - B_{z}⋅C_{y})) n_y + (-A_{x}⋅(B_{x}⋅C_{z} - B_{z}⋅C_{x}) - A_{y}⋅(B_{y}⋅C_{z} - B_{z}⋅C_{y})) n_z"
      ]
     },
     "execution_count": 18,
     "metadata": {},
     "output_type": "execute_result"
    }
   ],
   "source": [
    "lhs = (Avec.cross(Bvec.cross(Cvec))).simplify()\n",
    "lhs"
   ]
  },
  {
   "cell_type": "markdown",
   "metadata": {},
   "source": [
    "For the right hand side, we need dot products, which again work as expected."
   ]
  },
  {
   "cell_type": "code",
   "execution_count": 19,
   "metadata": {},
   "outputs": [
    {
     "data": {
      "image/png": "[encoded data removed]",
      "text/latex": [
       "$$(A_{y} B_{x} C_{y} - A_{y} B_{y} C_{x} + A_{z} B_{x} C_{z} - A_{z} B_{z} C_{x})\\hat{\\mathbf{x}} + (- A_{x} B_{x} C_{y} + A_{x} B_{y} C_{x} + A_{z} B_{y} C_{z} - A_{z} B_{z} C_{y})\\hat{\\mathbf{y}} + (- A_{x} B_{x} C_{z} + A_{x} B_{z} C_{x} - A_{y} B_{y} C_{z} + A_{y} B_{z} C_{y})\\hat{\\mathbf{z}}$$"
      ],
      "text/plain": [
       "(A_{y}⋅B_{x}⋅C_{y} - A_{y}⋅B_{y}⋅C_{x} + A_{z}⋅B_{x}⋅C_{z} - A_{z}⋅B_{z}⋅C_{x}) n_x + (-A_{x}⋅B_{x}⋅C_{y} + A_{x}⋅B_{y}⋅C_{x} + A_{z}⋅B_{y}⋅C_{z} - A_{z}⋅B_{z}⋅C_{y}) n_y + (-A_{x}⋅B_{x}⋅C_{z} + A_{x}⋅B_{z}⋅C_{x} - A_{y}⋅B_{y}⋅C_{z} + A_{y}⋅B_{z}⋅C_{y}) n_z"
      ]
     },
     "execution_count": 19,
     "metadata": {},
     "output_type": "execute_result"
    }
   ],
   "source": [
    "rhs = (Bvec*(Avec.dot(Cvec)) - Cvec*(Avec.dot(Bvec))).simplify()\n",
    "rhs"
   ]
  },
  {
   "cell_type": "code",
   "execution_count": 20,
   "metadata": {},
   "outputs": [
    {
     "data": {
      "text/plain": [
       "True"
      ]
     },
     "execution_count": 20,
     "metadata": {},
     "output_type": "execute_result"
    }
   ],
   "source": [
    "lhs == rhs"
   ]
  },
  {
   "cell_type": "markdown",
   "metadata": {},
   "source": [
    "This equality test didn't work for the `Matrix`-style vectors, but does work here. I'm not sure why that is.\n",
    "\n",
    "---\n",
    "\n",
    "---\n",
    "\n",
    "### Problem 1.7"
   ]
  },
  {
   "cell_type": "code",
   "execution_count": 21,
   "metadata": {},
   "outputs": [
    {
     "data": {
      "text/latex": [
       "$$\\boldsymbol{\\mathscr{r}} = \\left[\\begin{matrix}2\\\\-2\\\\1\\end{matrix}\\right]$$"
      ],
      "text/plain": [
       "rscrbm = ⎡2 ⎤\n",
       "         ⎢  ⎥\n",
       "         ⎢-2⎥\n",
       "         ⎢  ⎥\n",
       "         ⎣1 ⎦"
      ]
     },
     "execution_count": 21,
     "metadata": {},
     "output_type": "execute_result"
    }
   ],
   "source": [
    "rfrak, rfrakabs, rfrakhat = sp.symbols('rscrbm rscr rscrhat')\n",
    "\n",
    "r = sp.Matrix([[4,6,8]])\n",
    "rprime = sp.Matrix([[2,8,7]])\n",
    "scriptr = r - rprime\n",
    "sp.Eq(rfrak, scriptr.T, evaluate=False)"
   ]
  },
  {
   "cell_type": "code",
   "execution_count": 22,
   "metadata": {},
   "outputs": [
    {
     "data": {
      "image/png": "[encoded data removed]",
      "text/latex": [
       "$$\\mathscr{r} = 3$$"
      ],
      "text/plain": [
       "rscr = 3"
      ]
     },
     "execution_count": 22,
     "metadata": {},
     "output_type": "execute_result"
    }
   ],
   "source": [
    "magnitude = sp.sqrt(scriptr.dot(scriptr))\n",
    "sp.Eq(rfrakabs, magnitude, evaluate=False)"
   ]
  },
  {
   "cell_type": "code",
   "execution_count": 23,
   "metadata": {},
   "outputs": [
    {
     "data": {
      "text/latex": [
       "$$\\hat{\\mathscr{r}} = \\left[\\begin{matrix}\\frac{2}{3}\\\\- \\frac{2}{3}\\\\\\frac{1}{3}\\end{matrix}\\right]$$"
      ],
      "text/plain": [
       "rscr̂ = ⎡2/3 ⎤\n",
       "        ⎢    ⎥\n",
       "        ⎢-2/3⎥\n",
       "        ⎢    ⎥\n",
       "        ⎣1/3 ⎦"
      ]
     },
     "execution_count": 23,
     "metadata": {},
     "output_type": "execute_result"
    }
   ],
   "source": [
    "unitvec = scriptr/magnitude\n",
    "sp.Eq(rfrakhat, unitvec.T, evaluate=False)"
   ]
  },
  {
   "cell_type": "markdown",
   "metadata": {},
   "source": [
    "---\n",
    "\n",
    "---\n",
    "For the next three problems, you're calculating gradients, divergences, and curls. The `sympy.physics.vector` module contains functions to do this, but they require reference frames. If you're working with vectors as matrices, it's simpler to write your own functions. That's the approach I take below.\n",
    "\n",
    "\n",
    "### Problem 1.11\n",
    "\n",
    "Find the gradients of the following functions:\n",
    "1. $f(x,y,z) = x^2 + y^3 +z^4 $\n",
    "2. $f(x,y,z) = x^2y^3z^4$\n",
    "3. $f(x,y,z) = e^x\\sin(y)\\ln(z) $\n",
    "---\n",
    "#### Solution:"
   ]
  },
  {
   "cell_type": "code",
   "execution_count": 24,
   "metadata": {
    "collapsed": true
   },
   "outputs": [],
   "source": [
    "def gradient(phi):\n",
    "    \"\"\"Compute the gradient of phi\"\"\"\n",
    "    x,y,z = sp.symbols('x y z')\n",
    "    phi_x = sp.diff(phi,x)\n",
    "    phi_y = sp.diff(phi,y)\n",
    "    phi_z = sp.diff(phi,z)\n",
    "    \n",
    "    return sp.Matrix([[phi_x, phi_y, phi_z]])\n",
    "\n",
    "x,y,z = sp.symbols('x y z')\n",
    "fa = x**2 + y**3 + z**4\n",
    "fb = x**2*y**3*z**4\n",
    "fc = sp.exp(x)*sp.sin(y)*sp.ln(z)"
   ]
  },
  {
   "cell_type": "code",
   "execution_count": 25,
   "metadata": {},
   "outputs": [
    {
     "data": {
      "text/latex": [
       "$$\\nabla \\left(x^{2} + y^{3} + z^{4}\\right) = \\left[\\begin{matrix}2 x\\\\3 y^{2}\\\\4 z^{3}\\end{matrix}\\right]$$"
      ],
      "text/plain": [
       "<IPython.core.display.Math object>"
      ]
     },
     "execution_count": 25,
     "metadata": {},
     "output_type": "execute_result"
    }
   ],
   "source": [
    "Math(\"\\\\nabla \\left({}\\\\right) = {}\".format(sp.latex(fa), sp.latex(gradient(fa).T)))"
   ]
  },
  {
   "cell_type": "code",
   "execution_count": 26,
   "metadata": {},
   "outputs": [
    {
     "data": {
      "text/latex": [
       "$$\\nabla \\left(x^{2} y^{3} z^{4}\\right) = \\left[\\begin{matrix}2 x y^{3} z^{4}\\\\3 x^{2} y^{2} z^{4}\\\\4 x^{2} y^{3} z^{3}\\end{matrix}\\right]$$"
      ],
      "text/plain": [
       "<IPython.core.display.Math object>"
      ]
     },
     "execution_count": 26,
     "metadata": {},
     "output_type": "execute_result"
    }
   ],
   "source": [
    "Math(\"\\\\nabla \\left({}\\\\right) = {}\".format(sp.latex(fb), sp.latex(gradient(fb).T)))"
   ]
  },
  {
   "cell_type": "markdown",
   "metadata": {},
   "source": [
    "For mathematical functions, we have to be careful to use the sympy versions which can handle symbols as inputs."
   ]
  },
  {
   "cell_type": "code",
   "execution_count": 27,
   "metadata": {},
   "outputs": [
    {
     "data": {
      "text/latex": [
       "$$\\nabla \\left(e^{x} \\log{\\left (z \\right )} \\sin{\\left (y \\right )}\\right) = \\left[\\begin{matrix}e^{x} \\log{\\left (z \\right )} \\sin{\\left (y \\right )}\\\\e^{x} \\log{\\left (z \\right )} \\cos{\\left (y \\right )}\\\\\\frac{e^{x}}{z} \\sin{\\left (y \\right )}\\end{matrix}\\right]$$"
      ],
      "text/plain": [
       "<IPython.core.display.Math object>"
      ]
     },
     "execution_count": 27,
     "metadata": {},
     "output_type": "execute_result"
    }
   ],
   "source": [
    "Math(\"\\\\nabla \\left({}\\\\right) = {}\".format(sp.latex(fc), sp.latex(gradient(fc).T)))"
   ]
  },
  {
   "cell_type": "markdown",
   "metadata": {},
   "source": [
    "---\n",
    "\n",
    "---\n",
    "\n",
    "### Problem 1.15\n",
    "\n",
    "Calculate the divergence of the following functions:\n",
    "1. $\\mathbf{v}_a = x^2 \\hat{\\mathbf{x}} + 3xz^2\\hat{\\mathbf{y}} - 2xz\\hat{\\mathbf{z}}$\n",
    "2. $\\mathbf{v}_b = xy \\hat{\\mathbf{x}} + 2yz\\hat{\\mathbf{y}} + 3zx\\hat{\\mathbf{z}}$\n",
    "3. $\\mathbf{v}_c = y^2 \\hat{\\mathbf{x}} + 2\\left(xy + z^2\\right)\\hat{\\mathbf{y}} + 2yz\\hat{\\mathbf{z}}$\n",
    "\n",
    "---\n",
    "#### Solution:\n"
   ]
  },
  {
   "cell_type": "code",
   "execution_count": 28,
   "metadata": {
    "collapsed": true
   },
   "outputs": [],
   "source": [
    "x,y,z = sp.symbols('x y z')\n",
    "v_a, v_b, v_c = sp.symbols('v_a v_b v_c')\n",
    "\n",
    "va = sp.Matrix([[x**2, 3*x*z**2, -2*x*z]])\n",
    "vb = sp.Matrix([[x*y, 2*y*z, 3*x*z]])\n",
    "vc = sp.Matrix([[y**2, 2*(x*y+z**2), 2*y*z]])"
   ]
  },
  {
   "cell_type": "code",
   "execution_count": 29,
   "metadata": {
    "collapsed": true
   },
   "outputs": [],
   "source": [
    "def divergence(vec):\n",
    "    \"\"\"Take the divergence of vec.\"\"\"\n",
    "    x,y,z = sp.symbols('x y z')\n",
    "    xterm = sp.diff(vec[0], x)\n",
    "    yterm = sp.diff(vec[1], y)\n",
    "    zterm = sp.diff(vec[2], z)\n",
    "    \n",
    "    return xterm + yterm + zterm"
   ]
  },
  {
   "cell_type": "code",
   "execution_count": 30,
   "metadata": {},
   "outputs": [
    {
     "data": {
      "text/latex": [
       "$$\\nabla \\cdot \\left[\\begin{matrix}x^{2}\\\\3 x z^{2}\\\\- 2 x z\\end{matrix}\\right] = 0$$"
      ],
      "text/plain": [
       "<IPython.core.display.Math object>"
      ]
     },
     "execution_count": 30,
     "metadata": {},
     "output_type": "execute_result"
    }
   ],
   "source": [
    "Math(\"\\\\nabla \\cdot {} = {}\".format(sp.latex(va.T), sp.latex(divergence(va))))"
   ]
  },
  {
   "cell_type": "code",
   "execution_count": 31,
   "metadata": {},
   "outputs": [
    {
     "data": {
      "text/latex": [
       "$$\\nabla \\cdot \\left[\\begin{matrix}x y\\\\2 y z\\\\3 x z\\end{matrix}\\right] = 3 x + y + 2 z$$"
      ],
      "text/plain": [
       "<IPython.core.display.Math object>"
      ]
     },
     "execution_count": 31,
     "metadata": {},
     "output_type": "execute_result"
    }
   ],
   "source": [
    "Math(\"\\\\nabla \\cdot {} = {}\".format(sp.latex(vb.T), sp.latex(divergence(vb))))"
   ]
  },
  {
   "cell_type": "code",
   "execution_count": 32,
   "metadata": {},
   "outputs": [
    {
     "data": {
      "text/latex": [
       "$$\\nabla \\cdot \\left[\\begin{matrix}y^{2}\\\\2 x y + 2 z^{2}\\\\2 y z\\end{matrix}\\right] = 2 x + 2 y$$"
      ],
      "text/plain": [
       "<IPython.core.display.Math object>"
      ]
     },
     "execution_count": 32,
     "metadata": {},
     "output_type": "execute_result"
    }
   ],
   "source": [
    "Math(\"\\\\nabla \\cdot {} = {}\".format(sp.latex(vc.T), sp.latex(divergence(vc))))"
   ]
  },
  {
   "cell_type": "markdown",
   "metadata": {},
   "source": [
    "---\n",
    "\n",
    "---\n",
    "### Problem 1.18\n",
    "\n",
    "Calculate the curls of the vector functions in problem 1.15.\n",
    "\n",
    "---\n",
    "\n",
    "#### Solution:"
   ]
  },
  {
   "cell_type": "code",
   "execution_count": 33,
   "metadata": {
    "collapsed": true
   },
   "outputs": [],
   "source": [
    "def curl(vec):\n",
    "    \"\"\"Take the curl of vec.\"\"\"\n",
    "\n",
    "    x,y,z = sp.symbols('x y z')\n",
    "    \n",
    "    # yz - zy\n",
    "    curl_x = sp.diff(vec[2], y) - sp.diff(vec[1], z)\n",
    "    \n",
    "    # zx - xz\n",
    "    curl_y = sp.diff(vec[0],z) - sp.diff(vec[2], x)\n",
    "    \n",
    "    # xy - yx\n",
    "    curl_z = sp.diff(vec[1], x) - sp.diff(vec[0], y)\n",
    "    \n",
    "    return sp.Matrix([[curl_x, curl_y, curl_z]])"
   ]
  },
  {
   "cell_type": "code",
   "execution_count": 34,
   "metadata": {},
   "outputs": [
    {
     "data": {
      "text/latex": [
       "$$\\nabla \\times \\left[\\begin{matrix}x^{2}\\\\3 x z^{2}\\\\- 2 x z\\end{matrix}\\right] = \\left[\\begin{matrix}- 6 x z\\\\2 z\\\\3 z^{2}\\end{matrix}\\right]$$"
      ],
      "text/plain": [
       "<IPython.core.display.Math object>"
      ]
     },
     "execution_count": 34,
     "metadata": {},
     "output_type": "execute_result"
    }
   ],
   "source": [
    "Math(\"\\\\nabla \\\\times {} = {}\".format(sp.latex(va.T), sp.latex(curl(va).T)))"
   ]
  },
  {
   "cell_type": "code",
   "execution_count": 35,
   "metadata": {},
   "outputs": [
    {
     "data": {
      "text/latex": [
       "$$\\nabla \\times \\left[\\begin{matrix}x y\\\\2 y z\\\\3 x z\\end{matrix}\\right] = \\left[\\begin{matrix}- 2 y\\\\- 3 z\\\\- x\\end{matrix}\\right]$$"
      ],
      "text/plain": [
       "<IPython.core.display.Math object>"
      ]
     },
     "execution_count": 35,
     "metadata": {},
     "output_type": "execute_result"
    }
   ],
   "source": [
    "Math(\"\\\\nabla \\\\times {} = {}\".format(sp.latex(vb.T), sp.latex(curl(vb).T)))"
   ]
  },
  {
   "cell_type": "code",
   "execution_count": 36,
   "metadata": {},
   "outputs": [
    {
     "data": {
      "text/latex": [
       "$$\\nabla \\times \\left[\\begin{matrix}y^{2}\\\\2 x y + 2 z^{2}\\\\2 y z\\end{matrix}\\right] = \\left[\\begin{matrix}- 2 z\\\\0\\\\0\\end{matrix}\\right]$$"
      ],
      "text/plain": [
       "<IPython.core.display.Math object>"
      ]
     },
     "execution_count": 36,
     "metadata": {},
     "output_type": "execute_result"
    }
   ],
   "source": [
    "Math(\"\\\\nabla \\\\times {} = {}\".format(sp.latex(vc.T), sp.latex(curl(vc).T)))"
   ]
  }
 ],
 "metadata": {
  "kernelspec": {
   "display_name": "Python 3",
   "language": "python",
   "name": "python3"
  },
  "language_info": {
   "codemirror_mode": {
    "name": "ipython",
    "version": 3
   },
   "file_extension": ".py",
   "mimetype": "text/x-python",
   "name": "python",
   "nbconvert_exporter": "python",
   "pygments_lexer": "ipython3",
   "version": "3.5.3"
  }
 },
 "nbformat": 4,
 "nbformat_minor": 2
}
