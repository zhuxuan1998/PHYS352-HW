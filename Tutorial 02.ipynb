{
 "cells": [
  {
   "cell_type": "code",
   "execution_count": 1,
   "metadata": {
    "collapsed": true
   },
   "outputs": [],
   "source": [
    "import sympy as sp\n",
    "\n",
    "sp.init_printing()"
   ]
  },
  {
   "cell_type": "markdown",
   "metadata": {},
   "source": [
    "# Working with vectors\n",
    "\n",
    "Much of the work that gets done in the upper-level undergraduate physics curriculum involves vectors, either explicitly or implicitly. There are two obvious ways to approach the problem of storing and manipulating vector functions in `sympy`:\n",
    "1. Vectors-as-matrices\n",
    "2. The `sympy.physics.vector` module.\n",
    "3. The `sympy.vector` module (which is **not** the same as the previous one).\n",
    "\n",
    "The first of these has a somewhat easier learning curve but isn't as full featured as the others. That said, I have yet to find any task that is prohibitively difficult using any of the methods, so I would say you should pick one and get to know it well enough that you're comfortable using it. I'll discuss all three here.\n",
    "\n",
    "---\n",
    "## Vectors-as-matrices\n",
    "\n",
    "In this approach, you simply build $1\\times n$ or $n\\times 1$ matrices, and treat them as row or column vectors, respectively. There are no unit vectors as such; everything is positional within the matrices you create."
   ]
  },
  {
   "cell_type": "code",
   "execution_count": 2,
   "metadata": {},
   "outputs": [
    {
     "data": {
      "image/png": "[encoded data removed]",
      "text/latex": [
       "$$\\left[\\begin{matrix}a_{x} & a_{y} & a_{z}\\end{matrix}\\right]$$"
      ],
      "text/plain": [
       "[aₓ  a_y  a_z]"
      ]
     },
     "execution_count": 2,
     "metadata": {},
     "output_type": "execute_result"
    }
   ],
   "source": [
    "a = sp.symbols(\"a_x:z\")\n",
    "b = sp.symbols(\"b_x:z\")\n",
    "\n",
    "# a is a list with three elements\n",
    "avec = sp.Matrix([a])\n",
    "avec"
   ]
  },
  {
   "cell_type": "markdown",
   "metadata": {},
   "source": [
    "The transpose of a matrix (in this case, converting a row vector to a column vector, or *vice-versa*) can be accessed by appending `.T`."
   ]
  },
  {
   "cell_type": "code",
   "execution_count": 3,
   "metadata": {},
   "outputs": [
    {
     "data": {
      "image/png": "[encoded data removed]",
      "text/latex": [
       "$$\\left[\\begin{matrix}b_{x}\\\\b_{y}\\\\b_{z}\\end{matrix}\\right]$$"
      ],
      "text/plain": [
       "⎡bₓ ⎤\n",
       "⎢   ⎥\n",
       "⎢b_y⎥\n",
       "⎢   ⎥\n",
       "⎣b_z⎦"
      ]
     },
     "execution_count": 3,
     "metadata": {},
     "output_type": "execute_result"
    }
   ],
   "source": [
    "# b is also a list; I've written it out explicitly here.\n",
    "bvec = sp.Matrix([[b[0], b[1], b[2]]]).T\n",
    "bvec"
   ]
  },
  {
   "cell_type": "markdown",
   "metadata": {},
   "source": [
    "Dot and cross products are provided by the `dot()` and `cross()` methods."
   ]
  },
  {
   "cell_type": "code",
   "execution_count": 4,
   "metadata": {},
   "outputs": [
    {
     "data": {
      "image/png": "[encoded data removed]",
      "text/latex": [
       "$$a_{x} b_{x} + a_{y} b_{y} + a_{z} b_{z}$$"
      ],
      "text/plain": [
       "aₓ⋅bₓ + a_y⋅b_y + a_z⋅b_z"
      ]
     },
     "execution_count": 4,
     "metadata": {},
     "output_type": "execute_result"
    }
   ],
   "source": [
    "avec.dot(bvec)"
   ]
  },
  {
   "cell_type": "code",
   "execution_count": 5,
   "metadata": {},
   "outputs": [
    {
     "data": {
      "image/png": "[encoded data removed]",
      "text/latex": [
       "$$\\left[\\begin{matrix}a_{y} b_{z} - a_{z} b_{y} & - a_{x} b_{z} + a_{z} b_{x} & a_{x} b_{y} - a_{y} b_{x}\\end{matrix}\\right]$$"
      ],
      "text/plain": [
       "[a_y⋅b_z - a_z⋅b_y  -aₓ⋅b_z + a_z⋅bₓ  aₓ⋅b_y - a_y⋅bₓ]"
      ]
     },
     "execution_count": 5,
     "metadata": {},
     "output_type": "execute_result"
    }
   ],
   "source": [
    "avec.cross(bvec)"
   ]
  },
  {
   "cell_type": "markdown",
   "metadata": {},
   "source": [
    "The standard multiplication operator `*` does matrix multiplication, which is likely not what you want in this context..."
   ]
  },
  {
   "cell_type": "code",
   "execution_count": 6,
   "metadata": {},
   "outputs": [
    {
     "data": {
      "image/png": "[encoded data removed]",
      "text/latex": [
       "$$\\left[\\begin{matrix}a_{x} b_{x} + a_{y} b_{y} + a_{z} b_{z}\\end{matrix}\\right]$$"
      ],
      "text/plain": [
       "[aₓ⋅bₓ + a_y⋅b_y + a_z⋅b_z]"
      ]
     },
     "execution_count": 6,
     "metadata": {},
     "output_type": "execute_result"
    }
   ],
   "source": [
    "avec * bvec"
   ]
  },
  {
   "cell_type": "code",
   "execution_count": 7,
   "metadata": {},
   "outputs": [
    {
     "data": {
      "image/png": "[encoded data removed]",
      "text/latex": [
       "$$\\left[\\begin{matrix}a_{x} b_{x} & a_{y} b_{x} & a_{z} b_{x}\\\\a_{x} b_{y} & a_{y} b_{y} & a_{z} b_{y}\\\\a_{x} b_{z} & a_{y} b_{z} & a_{z} b_{z}\\end{matrix}\\right]$$"
      ],
      "text/plain": [
       "⎡aₓ⋅bₓ   a_y⋅bₓ   a_z⋅bₓ ⎤\n",
       "⎢                        ⎥\n",
       "⎢aₓ⋅b_y  a_y⋅b_y  a_z⋅b_y⎥\n",
       "⎢                        ⎥\n",
       "⎣aₓ⋅b_z  a_y⋅b_z  a_z⋅b_z⎦"
      ]
     },
     "execution_count": 7,
     "metadata": {},
     "output_type": "execute_result"
    }
   ],
   "source": [
    "bvec * avec"
   ]
  },
  {
   "cell_type": "markdown",
   "metadata": {},
   "source": [
    "... but it can be used for linear transformations."
   ]
  },
  {
   "cell_type": "code",
   "execution_count": 8,
   "metadata": {},
   "outputs": [
    {
     "data": {
      "image/png": "[encoded data removed]",
      "text/latex": [
       "$$\\left[\\begin{matrix}c_{1 1} & c_{1 2} & c_{1 3}\\\\c_{2 1} & c_{2 2} & c_{2 3}\\\\c_{3 1} & c_{3 2} & c_{3 3}\\end{matrix}\\right]$$"
      ],
      "text/plain": [
       "⎡c₁ ₁  c₁ ₂  c₁ ₃⎤\n",
       "⎢                ⎥\n",
       "⎢c₂ ₁  c₂ ₂  c₂ ₃⎥\n",
       "⎢                ⎥\n",
       "⎣c₃ ₁  c₃ ₂  c₃ ₃⎦"
      ]
     },
     "execution_count": 8,
     "metadata": {},
     "output_type": "execute_result"
    }
   ],
   "source": [
    "c = sp.symbols('c_1:4_1:4')\n",
    "C = sp.Matrix([c[0:3], c[3:6], c[6:9]])\n",
    "C"
   ]
  },
  {
   "cell_type": "code",
   "execution_count": 9,
   "metadata": {},
   "outputs": [
    {
     "data": {
      "image/png": "[encoded data removed]",
      "text/latex": [
       "$$\\left[\\begin{matrix}b_{x} c_{1 1} + b_{y} c_{1 2} + b_{z} c_{1 3}\\\\b_{x} c_{2 1} + b_{y} c_{2 2} + b_{z} c_{2 3}\\\\b_{x} c_{3 1} + b_{y} c_{3 2} + b_{z} c_{3 3}\\end{matrix}\\right]$$"
      ],
      "text/plain": [
       "⎡bₓ⋅c₁ ₁ + b_y⋅c₁ ₂ + b_z⋅c₁ ₃⎤\n",
       "⎢                             ⎥\n",
       "⎢bₓ⋅c₂ ₁ + b_y⋅c₂ ₂ + b_z⋅c₂ ₃⎥\n",
       "⎢                             ⎥\n",
       "⎣bₓ⋅c₃ ₁ + b_y⋅c₃ ₂ + b_z⋅c₃ ₃⎦"
      ]
     },
     "execution_count": 9,
     "metadata": {},
     "output_type": "execute_result"
    }
   ],
   "source": [
    "C * bvec"
   ]
  },
  {
   "cell_type": "markdown",
   "metadata": {},
   "source": [
    "You can quite easily build matrix equations which `sympy.solve` can solve."
   ]
  },
  {
   "cell_type": "code",
   "execution_count": 10,
   "metadata": {},
   "outputs": [
    {
     "data": {
      "image/png": "[encoded data removed]",
      "text/latex": [
       "$$\\left[\\begin{matrix}b_{x} c_{1 1} + b_{y} c_{1 2} + b_{z} c_{1 3}\\\\b_{x} c_{2 1} + b_{y} c_{2 2} + b_{z} c_{2 3}\\\\b_{x} c_{3 1} + b_{y} c_{3 2} + b_{z} c_{3 3}\\end{matrix}\\right] = \\left[\\begin{matrix}a_{x}\\\\a_{y}\\\\a_{z}\\end{matrix}\\right]$$"
      ],
      "text/plain": [
       "⎡bₓ⋅c₁ ₁ + b_y⋅c₁ ₂ + b_z⋅c₁ ₃⎤   ⎡aₓ ⎤\n",
       "⎢                             ⎥   ⎢   ⎥\n",
       "⎢bₓ⋅c₂ ₁ + b_y⋅c₂ ₂ + b_z⋅c₂ ₃⎥ = ⎢a_y⎥\n",
       "⎢                             ⎥   ⎢   ⎥\n",
       "⎣bₓ⋅c₃ ₁ + b_y⋅c₃ ₂ + b_z⋅c₃ ₃⎦   ⎣a_z⎦"
      ]
     },
     "execution_count": 10,
     "metadata": {},
     "output_type": "execute_result"
    }
   ],
   "source": [
    "matrixeq = sp.Eq(C*bvec, avec.T, evaluate=False)\n",
    "matrixeq"
   ]
  },
  {
   "cell_type": "code",
   "execution_count": 11,
   "metadata": {},
   "outputs": [
    {
     "data": {
      "image/png": "[encoded data removed]",
      "text/latex": [
       "$$\\left \\{ b_{x} : \\frac{a_{x} \\left(c_{2 2} c_{3 3} - c_{2 3} c_{3 2}\\right) - a_{y} \\left(c_{1 2} c_{3 3} - c_{1 3} c_{3 2}\\right) + a_{z} \\left(c_{1 2} c_{2 3} - c_{1 3} c_{2 2}\\right)}{c_{1 1} c_{2 2} c_{3 3} - c_{1 1} c_{2 3} c_{3 2} - c_{1 2} c_{2 1} c_{3 3} + c_{1 2} c_{2 3} c_{3 1} + c_{1 3} c_{2 1} c_{3 2} - c_{1 3} c_{2 2} c_{3 1}}, \\quad b_{y} : \\frac{- a_{x} \\left(c_{2 1} c_{3 3} - c_{2 3} c_{3 1}\\right) + a_{y} \\left(c_{1 1} c_{3 3} - c_{1 3} c_{3 1}\\right) - a_{z} \\left(c_{1 1} c_{2 3} - c_{1 3} c_{2 1}\\right)}{c_{1 1} c_{2 2} c_{3 3} - c_{1 1} c_{2 3} c_{3 2} - c_{1 2} c_{2 1} c_{3 3} + c_{1 2} c_{2 3} c_{3 1} + c_{1 3} c_{2 1} c_{3 2} - c_{1 3} c_{2 2} c_{3 1}}, \\quad b_{z} : \\frac{a_{x} \\left(c_{2 1} c_{3 2} - c_{2 2} c_{3 1}\\right) - a_{y} \\left(c_{1 1} c_{3 2} - c_{1 2} c_{3 1}\\right) + a_{z} \\left(c_{1 1} c_{2 2} - c_{1 2} c_{2 1}\\right)}{c_{1 1} c_{2 2} c_{3 3} - c_{1 1} c_{2 3} c_{3 2} - c_{1 2} c_{2 1} c_{3 3} + c_{1 2} c_{2 3} c_{3 1} + c_{1 3} c_{2 1} c_{3 2} - c_{1 3} c_{2 2} c_{3 1}}\\right \\}$$"
      ],
      "text/plain": [
       "⎧           aₓ⋅(c₂ ₂⋅c₃ ₃ - c₂ ₃⋅c₃ ₂) - a_y⋅(c₁ ₂⋅c₃ ₃ - c₁ ₃⋅c₃ ₂) + a_z⋅(c₁\n",
       "⎨bₓ: ─────────────────────────────────────────────────────────────────────────\n",
       "⎩    c₁ ₁⋅c₂ ₂⋅c₃ ₃ - c₁ ₁⋅c₂ ₃⋅c₃ ₂ - c₁ ₂⋅c₂ ₁⋅c₃ ₃ + c₁ ₂⋅c₂ ₃⋅c₃ ₁ + c₁ ₃⋅\n",
       "\n",
       " ₂⋅c₂ ₃ - c₁ ₃⋅c₂ ₂)                   -aₓ⋅(c₂ ₁⋅c₃ ₃ - c₂ ₃⋅c₃ ₁) + a_y⋅(c₁ ₁\n",
       "──────────────────────────, b_y: ─────────────────────────────────────────────\n",
       "c₂ ₁⋅c₃ ₂ - c₁ ₃⋅c₂ ₂⋅c₃ ₁       c₁ ₁⋅c₂ ₂⋅c₃ ₃ - c₁ ₁⋅c₂ ₃⋅c₃ ₂ - c₁ ₂⋅c₂ ₁⋅c\n",
       "\n",
       "⋅c₃ ₃ - c₁ ₃⋅c₃ ₁) - a_z⋅(c₁ ₁⋅c₂ ₃ - c₁ ₃⋅c₂ ₁)                    aₓ⋅(c₂ ₁⋅c\n",
       "──────────────────────────────────────────────────────, b_z: ─────────────────\n",
       "₃ ₃ + c₁ ₂⋅c₂ ₃⋅c₃ ₁ + c₁ ₃⋅c₂ ₁⋅c₃ ₂ - c₁ ₃⋅c₂ ₂⋅c₃ ₁       c₁ ₁⋅c₂ ₂⋅c₃ ₃ - \n",
       "\n",
       "₃ ₂ - c₂ ₂⋅c₃ ₁) - a_y⋅(c₁ ₁⋅c₃ ₂ - c₁ ₂⋅c₃ ₁) + a_z⋅(c₁ ₁⋅c₂ ₂ - c₁ ₂⋅c₂ ₁)  \n",
       "──────────────────────────────────────────────────────────────────────────────\n",
       "c₁ ₁⋅c₂ ₃⋅c₃ ₂ - c₁ ₂⋅c₂ ₁⋅c₃ ₃ + c₁ ₂⋅c₂ ₃⋅c₃ ₁ + c₁ ₃⋅c₂ ₁⋅c₃ ₂ - c₁ ₃⋅c₂ ₂⋅\n",
       "\n",
       "    ⎫\n",
       "────⎬\n",
       "c₃ ₁⎭"
      ]
     },
     "execution_count": 11,
     "metadata": {},
     "output_type": "execute_result"
    }
   ],
   "source": [
    "sp.solve(matrixeq, b)"
   ]
  },
  {
   "cell_type": "markdown",
   "metadata": {},
   "source": [
    "### Vector calculus\n",
    "\n",
    "Gradients, divergences, and curls are not fundamental operations on matrices, so they are not automatically included in this approach; you have to code your own. Furthermore, since you don't have a `ReferenceFrame` or `CoordSys3D` to contain the coordinates and unit vectors, you have to be a little careful about how you define things. Here are some examples:"
   ]
  },
  {
   "cell_type": "code",
   "execution_count": 12,
   "metadata": {
    "collapsed": true
   },
   "outputs": [],
   "source": [
    "def gradient(phi):\n",
    "    \"\"\"Take the gradient of a scalar function phi.\n",
    "    \n",
    "    We're assuming that phi is a function of sympy symbols x, y, z.\n",
    "    \n",
    "    Returns:\n",
    "    --------\n",
    "    A row vector.\n",
    "    \"\"\"\n",
    "    \n",
    "    x,y,z = sp.symbols('x y z')\n",
    "    xterm = sp.diff(phi, x)\n",
    "    yterm = sp.diff(phi, y)\n",
    "    zterm = sp.diff(phi, z)\n",
    "    \n",
    "    return sp.Matrix([[xterm, yterm, zterm]])\n",
    "\n",
    "def divergence(vec):\n",
    "    \"\"\"Take the divergence of vec.\"\"\"\n",
    "    \n",
    "    x,y,z = sp.symbols('x,y,z')\n",
    "    xterm = sp.diff(vec[0], x)\n",
    "    yterm = sp.diff(vec[1], y)\n",
    "    zterm = sp.diff(vec[2], z)\n",
    "    \n",
    "    return xterm + yterm + zterm\n",
    "\n",
    "def curl(vec):\n",
    "    \"\"\"Take the curl of vec.\"\"\"\n",
    "    \n",
    "    x,y,z = sp.symbols('x,y,z')\n",
    "    xterm = sp.diff(vec[2], y) - sp.diff(vec[1], z)\n",
    "    yterm = sp.diff(vec[0], z) - sp.diff(vec[2], x)\n",
    "    zterm = sp.diff(vec[1], x) - sp.diff(vec[0], y)\n",
    "    \n",
    "    return sp.Matrix([[xterm, yterm, zterm]])\n",
    "    "
   ]
  },
  {
   "cell_type": "markdown",
   "metadata": {},
   "source": [
    "## The `physics.vector` module\n",
    "\n",
    "Vectors in the `physics.vector` module begin with a reference frame. This is a cartesian coordinate system which may have a location, orientation, velocity, and/or angular velocity with respect to any other reference frame."
   ]
  },
  {
   "cell_type": "code",
   "execution_count": 13,
   "metadata": {
    "collapsed": true
   },
   "outputs": [],
   "source": [
    "from sympy.physics import vector as physicsvector\n",
    "\n",
    "N = physicsvector.ReferenceFrame('N')"
   ]
  },
  {
   "cell_type": "markdown",
   "metadata": {},
   "source": [
    "Since the reference frame includes a cartesian coordinate system, it has unit vectors in its $x$, $y$, and $z$ directions."
   ]
  },
  {
   "cell_type": "code",
   "execution_count": 14,
   "metadata": {},
   "outputs": [
    {
     "data": {
      "image/png": "[encoded data removed]",
      "text/latex": [
       "$$\\mathbf{\\hat{n}_y}$$"
      ],
      "text/plain": [
       "n_y"
      ]
     },
     "execution_count": 14,
     "metadata": {},
     "output_type": "execute_result"
    }
   ],
   "source": [
    "N.y"
   ]
  },
  {
   "cell_type": "markdown",
   "metadata": {},
   "source": [
    "Each reference frame also has coordinate scalars which correspond to the distance from the origin in the local $x$, $y$, and $z$ directions."
   ]
  },
  {
   "cell_type": "code",
   "execution_count": 15,
   "metadata": {},
   "outputs": [
    {
     "data": {
      "image/png": "[encoded data removed]",
      "text/latex": [
       "$$N_{y}$$"
      ],
      "text/plain": [
       "N_y"
      ]
     },
     "execution_count": 15,
     "metadata": {},
     "output_type": "execute_result"
    }
   ],
   "source": [
    "N[1]"
   ]
  },
  {
   "cell_type": "markdown",
   "metadata": {},
   "source": [
    "It's very important to keep these separate in your head. `N.y` is the unit vector in the local $y$ direction, and `N[1]` is the local $y$ coordinate. When I'm working with a single reference frame, I find it convenient to streamline the notation a little bit:"
   ]
  },
  {
   "cell_type": "code",
   "execution_count": 16,
   "metadata": {
    "collapsed": true
   },
   "outputs": [],
   "source": [
    "S = physicsvector.ReferenceFrame('S', latexs=[r\"\\hat{\\mathbf{x}}\", r\"\\hat{\\mathbf{y}}\", r\"\\hat{\\mathbf{z}}\"],\n",
    "                          variables=['x', 'y', 'z'])"
   ]
  },
  {
   "cell_type": "code",
   "execution_count": 17,
   "metadata": {},
   "outputs": [
    {
     "data": {
      "image/png": "[encoded data removed]",
      "text/latex": [
       "$$y\\hat{\\mathbf{y}}$$"
      ],
      "text/plain": [
       "y s_y"
      ]
     },
     "execution_count": 17,
     "metadata": {},
     "output_type": "execute_result"
    }
   ],
   "source": [
    "S[1]*S.y"
   ]
  },
  {
   "cell_type": "markdown",
   "metadata": {},
   "source": [
    "Now that we have a reference frame with unit vectors, we can build vectors algebraically."
   ]
  },
  {
   "cell_type": "code",
   "execution_count": 18,
   "metadata": {},
   "outputs": [
    {
     "data": {
      "image/png": "[encoded data removed]",
      "text/latex": [
       "$$a_{x}\\hat{\\mathbf{x}} + a_{y}\\hat{\\mathbf{y}} + a_{z}\\hat{\\mathbf{z}}$$"
      ],
      "text/plain": [
       "aₓ s_x + a_y s_y + a_z s_z"
      ]
     },
     "execution_count": 18,
     "metadata": {},
     "output_type": "execute_result"
    }
   ],
   "source": [
    "avec = a[0]*S.x + a[1]*S.y + a[2]*S.z\n",
    "bvec = b[0]*S.x + b[1]*S.y + b[2]*S.z\n",
    "avec"
   ]
  },
  {
   "cell_type": "markdown",
   "metadata": {},
   "source": [
    "Dot and cross products work the same way as they do in the vectors-as-matrices approach."
   ]
  },
  {
   "cell_type": "code",
   "execution_count": 19,
   "metadata": {},
   "outputs": [
    {
     "data": {
      "image/png": "[encoded data removed]",
      "text/latex": [
       "$$a_{x} b_{x} + a_{y} b_{y} + a_{z} b_{z}$$"
      ],
      "text/plain": [
       "aₓ⋅bₓ + a_y⋅b_y + a_z⋅b_z"
      ]
     },
     "execution_count": 19,
     "metadata": {},
     "output_type": "execute_result"
    }
   ],
   "source": [
    "avec.dot(bvec)"
   ]
  },
  {
   "cell_type": "markdown",
   "metadata": {},
   "source": [
    "There seems to be a bug in the implementation of the `physics.vector` module that makes printing under certain conditions raise an `AttributeError`.  If you're working in a notebook (as we are) it's safe to ignore this, and the output ends up looking ok, but it is annoying."
   ]
  },
  {
   "cell_type": "code",
   "execution_count": 20,
   "metadata": {},
   "outputs": [
    {
     "ename": "AttributeError",
     "evalue": "'tuple' object has no attribute 'right'",
     "output_type": "error",
     "traceback": [
      "\u001b[0;31m---------------------------------------------------------------------------\u001b[0m",
      "\u001b[0;31mAttributeError\u001b[0m                            Traceback (most recent call last)",
      "\u001b[0;32m/Users/cqm001/anaconda/envs/PHYS352/lib/python3.5/site-packages/IPython/core/formatters.py\u001b[0m in \u001b[0;36m__call__\u001b[0;34m(self, obj)\u001b[0m\n\u001b[1;32m    670\u001b[0m                 \u001b[0mtype_pprinters\u001b[0m\u001b[0;34m=\u001b[0m\u001b[0mself\u001b[0m\u001b[0;34m.\u001b[0m\u001b[0mtype_printers\u001b[0m\u001b[0;34m,\u001b[0m\u001b[0;34m\u001b[0m\u001b[0m\n\u001b[1;32m    671\u001b[0m                 deferred_pprinters=self.deferred_printers)\n\u001b[0;32m--> 672\u001b[0;31m             \u001b[0mprinter\u001b[0m\u001b[0;34m.\u001b[0m\u001b[0mpretty\u001b[0m\u001b[0;34m(\u001b[0m\u001b[0mobj\u001b[0m\u001b[0;34m)\u001b[0m\u001b[0;34m\u001b[0m\u001b[0m\n\u001b[0m\u001b[1;32m    673\u001b[0m             \u001b[0mprinter\u001b[0m\u001b[0;34m.\u001b[0m\u001b[0mflush\u001b[0m\u001b[0;34m(\u001b[0m\u001b[0;34m)\u001b[0m\u001b[0;34m\u001b[0m\u001b[0m\n\u001b[1;32m    674\u001b[0m             \u001b[0;32mreturn\u001b[0m \u001b[0mstream\u001b[0m\u001b[0;34m.\u001b[0m\u001b[0mgetvalue\u001b[0m\u001b[0;34m(\u001b[0m\u001b[0;34m)\u001b[0m\u001b[0;34m\u001b[0m\u001b[0m\n",
      "\u001b[0;32m/Users/cqm001/anaconda/envs/PHYS352/lib/python3.5/site-packages/IPython/lib/pretty.py\u001b[0m in \u001b[0;36mpretty\u001b[0;34m(self, obj)\u001b[0m\n\u001b[1;32m    366\u001b[0m                 \u001b[0;32mif\u001b[0m \u001b[0mcls\u001b[0m \u001b[0;32min\u001b[0m \u001b[0mself\u001b[0m\u001b[0;34m.\u001b[0m\u001b[0mtype_pprinters\u001b[0m\u001b[0;34m:\u001b[0m\u001b[0;34m\u001b[0m\u001b[0m\n\u001b[1;32m    367\u001b[0m                     \u001b[0;31m# printer registered in self.type_pprinters\u001b[0m\u001b[0;34m\u001b[0m\u001b[0;34m\u001b[0m\u001b[0m\n\u001b[0;32m--> 368\u001b[0;31m                     \u001b[0;32mreturn\u001b[0m \u001b[0mself\u001b[0m\u001b[0;34m.\u001b[0m\u001b[0mtype_pprinters\u001b[0m\u001b[0;34m[\u001b[0m\u001b[0mcls\u001b[0m\u001b[0;34m]\u001b[0m\u001b[0;34m(\u001b[0m\u001b[0mobj\u001b[0m\u001b[0;34m,\u001b[0m \u001b[0mself\u001b[0m\u001b[0;34m,\u001b[0m \u001b[0mcycle\u001b[0m\u001b[0;34m)\u001b[0m\u001b[0;34m\u001b[0m\u001b[0m\n\u001b[0m\u001b[1;32m    369\u001b[0m                 \u001b[0;32melse\u001b[0m\u001b[0;34m:\u001b[0m\u001b[0;34m\u001b[0m\u001b[0m\n\u001b[1;32m    370\u001b[0m                     \u001b[0;31m# deferred printer\u001b[0m\u001b[0;34m\u001b[0m\u001b[0;34m\u001b[0m\u001b[0m\n",
      "\u001b[0;32m/Users/cqm001/anaconda/envs/PHYS352/lib/python3.5/site-packages/sympy/interactive/printing.py\u001b[0m in \u001b[0;36m_print_plain\u001b[0;34m(arg, p, cycle)\u001b[0m\n\u001b[1;32m     66\u001b[0m         \u001b[0;34m\"\"\"caller for pretty, for use in IPython 0.11\"\"\"\u001b[0m\u001b[0;34m\u001b[0m\u001b[0m\n\u001b[1;32m     67\u001b[0m         \u001b[0;32mif\u001b[0m \u001b[0m_can_print_latex\u001b[0m\u001b[0;34m(\u001b[0m\u001b[0marg\u001b[0m\u001b[0;34m)\u001b[0m\u001b[0;34m:\u001b[0m\u001b[0;34m\u001b[0m\u001b[0m\n\u001b[0;32m---> 68\u001b[0;31m             \u001b[0mp\u001b[0m\u001b[0;34m.\u001b[0m\u001b[0mtext\u001b[0m\u001b[0;34m(\u001b[0m\u001b[0mstringify_func\u001b[0m\u001b[0;34m(\u001b[0m\u001b[0marg\u001b[0m\u001b[0;34m)\u001b[0m\u001b[0;34m)\u001b[0m\u001b[0;34m\u001b[0m\u001b[0m\n\u001b[0m\u001b[1;32m     69\u001b[0m         \u001b[0;32melse\u001b[0m\u001b[0;34m:\u001b[0m\u001b[0;34m\u001b[0m\u001b[0m\n\u001b[1;32m     70\u001b[0m             \u001b[0mp\u001b[0m\u001b[0;34m.\u001b[0m\u001b[0mtext\u001b[0m\u001b[0;34m(\u001b[0m\u001b[0mIPython\u001b[0m\u001b[0;34m.\u001b[0m\u001b[0mlib\u001b[0m\u001b[0;34m.\u001b[0m\u001b[0mpretty\u001b[0m\u001b[0;34m.\u001b[0m\u001b[0mpretty\u001b[0m\u001b[0;34m(\u001b[0m\u001b[0marg\u001b[0m\u001b[0;34m)\u001b[0m\u001b[0;34m)\u001b[0m\u001b[0;34m\u001b[0m\u001b[0m\n",
      "\u001b[0;32m/Users/cqm001/anaconda/envs/PHYS352/lib/python3.5/site-packages/sympy/printing/pretty/pretty.py\u001b[0m in \u001b[0;36mpretty\u001b[0;34m(expr, **settings)\u001b[0m\n\u001b[1;32m   2162\u001b[0m \u001b[0;34m\u001b[0m\u001b[0m\n\u001b[1;32m   2163\u001b[0m     \u001b[0;32mtry\u001b[0m\u001b[0;34m:\u001b[0m\u001b[0;34m\u001b[0m\u001b[0m\n\u001b[0;32m-> 2164\u001b[0;31m         \u001b[0;32mreturn\u001b[0m \u001b[0mpp\u001b[0m\u001b[0;34m.\u001b[0m\u001b[0mdoprint\u001b[0m\u001b[0;34m(\u001b[0m\u001b[0mexpr\u001b[0m\u001b[0;34m)\u001b[0m\u001b[0;34m\u001b[0m\u001b[0m\n\u001b[0m\u001b[1;32m   2165\u001b[0m     \u001b[0;32mfinally\u001b[0m\u001b[0;34m:\u001b[0m\u001b[0;34m\u001b[0m\u001b[0m\n\u001b[1;32m   2166\u001b[0m         \u001b[0mpretty_use_unicode\u001b[0m\u001b[0;34m(\u001b[0m\u001b[0muflag\u001b[0m\u001b[0;34m)\u001b[0m\u001b[0;34m\u001b[0m\u001b[0m\n",
      "\u001b[0;32m/Users/cqm001/anaconda/envs/PHYS352/lib/python3.5/site-packages/sympy/printing/pretty/pretty.py\u001b[0m in \u001b[0;36mdoprint\u001b[0;34m(self, expr)\u001b[0m\n\u001b[1;32m     60\u001b[0m \u001b[0;34m\u001b[0m\u001b[0m\n\u001b[1;32m     61\u001b[0m     \u001b[0;32mdef\u001b[0m \u001b[0mdoprint\u001b[0m\u001b[0;34m(\u001b[0m\u001b[0mself\u001b[0m\u001b[0;34m,\u001b[0m \u001b[0mexpr\u001b[0m\u001b[0;34m)\u001b[0m\u001b[0;34m:\u001b[0m\u001b[0;34m\u001b[0m\u001b[0m\n\u001b[0;32m---> 62\u001b[0;31m         \u001b[0;32mreturn\u001b[0m \u001b[0mself\u001b[0m\u001b[0;34m.\u001b[0m\u001b[0m_print\u001b[0m\u001b[0;34m(\u001b[0m\u001b[0mexpr\u001b[0m\u001b[0;34m)\u001b[0m\u001b[0;34m.\u001b[0m\u001b[0mrender\u001b[0m\u001b[0;34m(\u001b[0m\u001b[0;34m**\u001b[0m\u001b[0mself\u001b[0m\u001b[0;34m.\u001b[0m\u001b[0m_settings\u001b[0m\u001b[0;34m)\u001b[0m\u001b[0;34m\u001b[0m\u001b[0m\n\u001b[0m\u001b[1;32m     63\u001b[0m \u001b[0;34m\u001b[0m\u001b[0m\n\u001b[1;32m     64\u001b[0m     \u001b[0;31m# empty op so _print(stringPict) returns the same\u001b[0m\u001b[0;34m\u001b[0m\u001b[0;34m\u001b[0m\u001b[0m\n",
      "\u001b[0;32m/Users/cqm001/anaconda/envs/PHYS352/lib/python3.5/site-packages/sympy/physics/vector/vector.py\u001b[0m in \u001b[0;36mrender\u001b[0;34m(self, *args, **kwargs)\u001b[0m\n\u001b[1;32m    283\u001b[0m                                 pform = vp._print(\n\u001b[1;32m    284\u001b[0m                                     ar[i][0][j])\n\u001b[0;32m--> 285\u001b[0;31m                             pform = prettyForm(*pform.right(\" \",\n\u001b[0m\u001b[1;32m    286\u001b[0m                                                 ar[i][1].pretty_vecs[j]))\n\u001b[1;32m    287\u001b[0m                         \u001b[0;32melse\u001b[0m\u001b[0;34m:\u001b[0m\u001b[0;34m\u001b[0m\u001b[0m\n",
      "\u001b[0;31mAttributeError\u001b[0m: 'tuple' object has no attribute 'right'"
     ]
    },
    {
     "data": {
      "image/png": "[encoded data removed]",
      "text/latex": [
       "$$(a_{y} b_{z} - a_{z} b_{y})\\hat{\\mathbf{x}} + (- a_{x} b_{z} + a_{z} b_{x})\\hat{\\mathbf{y}} + (a_{x} b_{y} - a_{y} b_{x})\\hat{\\mathbf{z}}$$"
      ]
     },
     "execution_count": 20,
     "metadata": {},
     "output_type": "execute_result"
    }
   ],
   "source": [
    "avec.cross(bvec)"
   ]
  },
  {
   "cell_type": "markdown",
   "metadata": {},
   "source": [
    "Matrix multiplication doesn't work in a straightforward way, however, because the Matrix module thinks that `physics.vector` objects are scalars, and treats them accordingly."
   ]
  },
  {
   "cell_type": "code",
   "execution_count": 21,
   "metadata": {},
   "outputs": [
    {
     "ename": "AttributeError",
     "evalue": "'Fake' object has no attribute 'width'",
     "output_type": "error",
     "traceback": [
      "\u001b[0;31m---------------------------------------------------------------------------\u001b[0m",
      "\u001b[0;31mAttributeError\u001b[0m                            Traceback (most recent call last)",
      "\u001b[0;32m/Users/cqm001/anaconda/envs/PHYS352/lib/python3.5/site-packages/IPython/core/formatters.py\u001b[0m in \u001b[0;36m__call__\u001b[0;34m(self, obj)\u001b[0m\n\u001b[1;32m    670\u001b[0m                 \u001b[0mtype_pprinters\u001b[0m\u001b[0;34m=\u001b[0m\u001b[0mself\u001b[0m\u001b[0;34m.\u001b[0m\u001b[0mtype_printers\u001b[0m\u001b[0;34m,\u001b[0m\u001b[0;34m\u001b[0m\u001b[0m\n\u001b[1;32m    671\u001b[0m                 deferred_pprinters=self.deferred_printers)\n\u001b[0;32m--> 672\u001b[0;31m             \u001b[0mprinter\u001b[0m\u001b[0;34m.\u001b[0m\u001b[0mpretty\u001b[0m\u001b[0;34m(\u001b[0m\u001b[0mobj\u001b[0m\u001b[0;34m)\u001b[0m\u001b[0;34m\u001b[0m\u001b[0m\n\u001b[0m\u001b[1;32m    673\u001b[0m             \u001b[0mprinter\u001b[0m\u001b[0;34m.\u001b[0m\u001b[0mflush\u001b[0m\u001b[0;34m(\u001b[0m\u001b[0;34m)\u001b[0m\u001b[0;34m\u001b[0m\u001b[0m\n\u001b[1;32m    674\u001b[0m             \u001b[0;32mreturn\u001b[0m \u001b[0mstream\u001b[0m\u001b[0;34m.\u001b[0m\u001b[0mgetvalue\u001b[0m\u001b[0;34m(\u001b[0m\u001b[0;34m)\u001b[0m\u001b[0;34m\u001b[0m\u001b[0m\n",
      "\u001b[0;32m/Users/cqm001/anaconda/envs/PHYS352/lib/python3.5/site-packages/IPython/lib/pretty.py\u001b[0m in \u001b[0;36mpretty\u001b[0;34m(self, obj)\u001b[0m\n\u001b[1;32m    366\u001b[0m                 \u001b[0;32mif\u001b[0m \u001b[0mcls\u001b[0m \u001b[0;32min\u001b[0m \u001b[0mself\u001b[0m\u001b[0;34m.\u001b[0m\u001b[0mtype_pprinters\u001b[0m\u001b[0;34m:\u001b[0m\u001b[0;34m\u001b[0m\u001b[0m\n\u001b[1;32m    367\u001b[0m                     \u001b[0;31m# printer registered in self.type_pprinters\u001b[0m\u001b[0;34m\u001b[0m\u001b[0;34m\u001b[0m\u001b[0m\n\u001b[0;32m--> 368\u001b[0;31m                     \u001b[0;32mreturn\u001b[0m \u001b[0mself\u001b[0m\u001b[0;34m.\u001b[0m\u001b[0mtype_pprinters\u001b[0m\u001b[0;34m[\u001b[0m\u001b[0mcls\u001b[0m\u001b[0;34m]\u001b[0m\u001b[0;34m(\u001b[0m\u001b[0mobj\u001b[0m\u001b[0;34m,\u001b[0m \u001b[0mself\u001b[0m\u001b[0;34m,\u001b[0m \u001b[0mcycle\u001b[0m\u001b[0;34m)\u001b[0m\u001b[0;34m\u001b[0m\u001b[0m\n\u001b[0m\u001b[1;32m    369\u001b[0m                 \u001b[0;32melse\u001b[0m\u001b[0;34m:\u001b[0m\u001b[0;34m\u001b[0m\u001b[0m\n\u001b[1;32m    370\u001b[0m                     \u001b[0;31m# deferred printer\u001b[0m\u001b[0;34m\u001b[0m\u001b[0;34m\u001b[0m\u001b[0m\n",
      "\u001b[0;32m/Users/cqm001/anaconda/envs/PHYS352/lib/python3.5/site-packages/sympy/interactive/printing.py\u001b[0m in \u001b[0;36m_print_plain\u001b[0;34m(arg, p, cycle)\u001b[0m\n\u001b[1;32m     66\u001b[0m         \u001b[0;34m\"\"\"caller for pretty, for use in IPython 0.11\"\"\"\u001b[0m\u001b[0;34m\u001b[0m\u001b[0m\n\u001b[1;32m     67\u001b[0m         \u001b[0;32mif\u001b[0m \u001b[0m_can_print_latex\u001b[0m\u001b[0;34m(\u001b[0m\u001b[0marg\u001b[0m\u001b[0;34m)\u001b[0m\u001b[0;34m:\u001b[0m\u001b[0;34m\u001b[0m\u001b[0m\n\u001b[0;32m---> 68\u001b[0;31m             \u001b[0mp\u001b[0m\u001b[0;34m.\u001b[0m\u001b[0mtext\u001b[0m\u001b[0;34m(\u001b[0m\u001b[0mstringify_func\u001b[0m\u001b[0;34m(\u001b[0m\u001b[0marg\u001b[0m\u001b[0;34m)\u001b[0m\u001b[0;34m)\u001b[0m\u001b[0;34m\u001b[0m\u001b[0m\n\u001b[0m\u001b[1;32m     69\u001b[0m         \u001b[0;32melse\u001b[0m\u001b[0;34m:\u001b[0m\u001b[0;34m\u001b[0m\u001b[0m\n\u001b[1;32m     70\u001b[0m             \u001b[0mp\u001b[0m\u001b[0;34m.\u001b[0m\u001b[0mtext\u001b[0m\u001b[0;34m(\u001b[0m\u001b[0mIPython\u001b[0m\u001b[0;34m.\u001b[0m\u001b[0mlib\u001b[0m\u001b[0;34m.\u001b[0m\u001b[0mpretty\u001b[0m\u001b[0;34m.\u001b[0m\u001b[0mpretty\u001b[0m\u001b[0;34m(\u001b[0m\u001b[0marg\u001b[0m\u001b[0;34m)\u001b[0m\u001b[0;34m)\u001b[0m\u001b[0;34m\u001b[0m\u001b[0m\n",
      "\u001b[0;32m/Users/cqm001/anaconda/envs/PHYS352/lib/python3.5/site-packages/sympy/printing/pretty/pretty.py\u001b[0m in \u001b[0;36mpretty\u001b[0;34m(expr, **settings)\u001b[0m\n\u001b[1;32m   2162\u001b[0m \u001b[0;34m\u001b[0m\u001b[0m\n\u001b[1;32m   2163\u001b[0m     \u001b[0;32mtry\u001b[0m\u001b[0;34m:\u001b[0m\u001b[0;34m\u001b[0m\u001b[0m\n\u001b[0;32m-> 2164\u001b[0;31m         \u001b[0;32mreturn\u001b[0m \u001b[0mpp\u001b[0m\u001b[0;34m.\u001b[0m\u001b[0mdoprint\u001b[0m\u001b[0;34m(\u001b[0m\u001b[0mexpr\u001b[0m\u001b[0;34m)\u001b[0m\u001b[0;34m\u001b[0m\u001b[0m\n\u001b[0m\u001b[1;32m   2165\u001b[0m     \u001b[0;32mfinally\u001b[0m\u001b[0;34m:\u001b[0m\u001b[0;34m\u001b[0m\u001b[0m\n\u001b[1;32m   2166\u001b[0m         \u001b[0mpretty_use_unicode\u001b[0m\u001b[0;34m(\u001b[0m\u001b[0muflag\u001b[0m\u001b[0;34m)\u001b[0m\u001b[0;34m\u001b[0m\u001b[0m\n",
      "\u001b[0;32m/Users/cqm001/anaconda/envs/PHYS352/lib/python3.5/site-packages/sympy/printing/pretty/pretty.py\u001b[0m in \u001b[0;36mdoprint\u001b[0;34m(self, expr)\u001b[0m\n\u001b[1;32m     60\u001b[0m \u001b[0;34m\u001b[0m\u001b[0m\n\u001b[1;32m     61\u001b[0m     \u001b[0;32mdef\u001b[0m \u001b[0mdoprint\u001b[0m\u001b[0;34m(\u001b[0m\u001b[0mself\u001b[0m\u001b[0;34m,\u001b[0m \u001b[0mexpr\u001b[0m\u001b[0;34m)\u001b[0m\u001b[0;34m:\u001b[0m\u001b[0;34m\u001b[0m\u001b[0m\n\u001b[0;32m---> 62\u001b[0;31m         \u001b[0;32mreturn\u001b[0m \u001b[0mself\u001b[0m\u001b[0;34m.\u001b[0m\u001b[0m_print\u001b[0m\u001b[0;34m(\u001b[0m\u001b[0mexpr\u001b[0m\u001b[0;34m)\u001b[0m\u001b[0;34m.\u001b[0m\u001b[0mrender\u001b[0m\u001b[0;34m(\u001b[0m\u001b[0;34m**\u001b[0m\u001b[0mself\u001b[0m\u001b[0;34m.\u001b[0m\u001b[0m_settings\u001b[0m\u001b[0;34m)\u001b[0m\u001b[0;34m\u001b[0m\u001b[0m\n\u001b[0m\u001b[1;32m     63\u001b[0m \u001b[0;34m\u001b[0m\u001b[0m\n\u001b[1;32m     64\u001b[0m     \u001b[0;31m# empty op so _print(stringPict) returns the same\u001b[0m\u001b[0;34m\u001b[0m\u001b[0;34m\u001b[0m\u001b[0m\n",
      "\u001b[0;32m/Users/cqm001/anaconda/envs/PHYS352/lib/python3.5/site-packages/sympy/printing/printer.py\u001b[0m in \u001b[0;36m_print\u001b[0;34m(self, expr, *args, **kwargs)\u001b[0m\n\u001b[1;32m    255\u001b[0m                 \u001b[0mprintmethod\u001b[0m \u001b[0;34m=\u001b[0m \u001b[0;34m'_print_'\u001b[0m \u001b[0;34m+\u001b[0m \u001b[0mcls\u001b[0m\u001b[0;34m.\u001b[0m\u001b[0m__name__\u001b[0m\u001b[0;34m\u001b[0m\u001b[0m\n\u001b[1;32m    256\u001b[0m                 \u001b[0;32mif\u001b[0m \u001b[0mhasattr\u001b[0m\u001b[0;34m(\u001b[0m\u001b[0mself\u001b[0m\u001b[0;34m,\u001b[0m \u001b[0mprintmethod\u001b[0m\u001b[0;34m)\u001b[0m\u001b[0;34m:\u001b[0m\u001b[0;34m\u001b[0m\u001b[0m\n\u001b[0;32m--> 257\u001b[0;31m                     \u001b[0;32mreturn\u001b[0m \u001b[0mgetattr\u001b[0m\u001b[0;34m(\u001b[0m\u001b[0mself\u001b[0m\u001b[0;34m,\u001b[0m \u001b[0mprintmethod\u001b[0m\u001b[0;34m)\u001b[0m\u001b[0;34m(\u001b[0m\u001b[0mexpr\u001b[0m\u001b[0;34m,\u001b[0m \u001b[0;34m*\u001b[0m\u001b[0margs\u001b[0m\u001b[0;34m,\u001b[0m \u001b[0;34m**\u001b[0m\u001b[0mkwargs\u001b[0m\u001b[0;34m)\u001b[0m\u001b[0;34m\u001b[0m\u001b[0m\n\u001b[0m\u001b[1;32m    258\u001b[0m             \u001b[0;31m# Unknown object, fall back to the emptyPrinter.\u001b[0m\u001b[0;34m\u001b[0m\u001b[0;34m\u001b[0m\u001b[0m\n\u001b[1;32m    259\u001b[0m             \u001b[0;32mreturn\u001b[0m \u001b[0mself\u001b[0m\u001b[0;34m.\u001b[0m\u001b[0memptyPrinter\u001b[0m\u001b[0;34m(\u001b[0m\u001b[0mexpr\u001b[0m\u001b[0;34m)\u001b[0m\u001b[0;34m\u001b[0m\u001b[0m\n",
      "\u001b[0;32m/Users/cqm001/anaconda/envs/PHYS352/lib/python3.5/site-packages/sympy/printing/pretty/pretty.py\u001b[0m in \u001b[0;36m_print_MatrixBase\u001b[0;34m(self, e)\u001b[0m\n\u001b[1;32m    669\u001b[0m \u001b[0;34m\u001b[0m\u001b[0m\n\u001b[1;32m    670\u001b[0m     \u001b[0;32mdef\u001b[0m \u001b[0m_print_MatrixBase\u001b[0m\u001b[0;34m(\u001b[0m\u001b[0mself\u001b[0m\u001b[0;34m,\u001b[0m \u001b[0me\u001b[0m\u001b[0;34m)\u001b[0m\u001b[0;34m:\u001b[0m\u001b[0;34m\u001b[0m\u001b[0m\n\u001b[0;32m--> 671\u001b[0;31m         \u001b[0mD\u001b[0m \u001b[0;34m=\u001b[0m \u001b[0mself\u001b[0m\u001b[0;34m.\u001b[0m\u001b[0m_print_matrix_contents\u001b[0m\u001b[0;34m(\u001b[0m\u001b[0me\u001b[0m\u001b[0;34m)\u001b[0m\u001b[0;34m\u001b[0m\u001b[0m\n\u001b[0m\u001b[1;32m    672\u001b[0m         \u001b[0mD\u001b[0m\u001b[0;34m.\u001b[0m\u001b[0mbaseline\u001b[0m \u001b[0;34m=\u001b[0m \u001b[0mD\u001b[0m\u001b[0;34m.\u001b[0m\u001b[0mheight\u001b[0m\u001b[0;34m(\u001b[0m\u001b[0;34m)\u001b[0m\u001b[0;34m//\u001b[0m\u001b[0;36m2\u001b[0m\u001b[0;34m\u001b[0m\u001b[0m\n\u001b[1;32m    673\u001b[0m         \u001b[0mD\u001b[0m \u001b[0;34m=\u001b[0m \u001b[0mprettyForm\u001b[0m\u001b[0;34m(\u001b[0m\u001b[0;34m*\u001b[0m\u001b[0mD\u001b[0m\u001b[0;34m.\u001b[0m\u001b[0mparens\u001b[0m\u001b[0;34m(\u001b[0m\u001b[0;34m'['\u001b[0m\u001b[0;34m,\u001b[0m \u001b[0;34m']'\u001b[0m\u001b[0;34m)\u001b[0m\u001b[0;34m)\u001b[0m\u001b[0;34m\u001b[0m\u001b[0m\n",
      "\u001b[0;32m/Users/cqm001/anaconda/envs/PHYS352/lib/python3.5/site-packages/sympy/printing/pretty/pretty.py\u001b[0m in \u001b[0;36m_print_matrix_contents\u001b[0;34m(self, e)\u001b[0m\n\u001b[1;32m    617\u001b[0m \u001b[0;34m\u001b[0m\u001b[0m\n\u001b[1;32m    618\u001b[0m         \u001b[0;32mfor\u001b[0m \u001b[0mj\u001b[0m \u001b[0;32min\u001b[0m \u001b[0mrange\u001b[0m\u001b[0;34m(\u001b[0m\u001b[0mM\u001b[0m\u001b[0;34m.\u001b[0m\u001b[0mcols\u001b[0m\u001b[0;34m)\u001b[0m\u001b[0;34m:\u001b[0m\u001b[0;34m\u001b[0m\u001b[0m\n\u001b[0;32m--> 619\u001b[0;31m             \u001b[0mmaxw\u001b[0m\u001b[0;34m[\u001b[0m\u001b[0mj\u001b[0m\u001b[0;34m]\u001b[0m \u001b[0;34m=\u001b[0m \u001b[0mmax\u001b[0m\u001b[0;34m(\u001b[0m\u001b[0;34m[\u001b[0m\u001b[0mMs\u001b[0m\u001b[0;34m[\u001b[0m\u001b[0mi\u001b[0m\u001b[0;34m,\u001b[0m \u001b[0mj\u001b[0m\u001b[0;34m]\u001b[0m\u001b[0;34m.\u001b[0m\u001b[0mwidth\u001b[0m\u001b[0;34m(\u001b[0m\u001b[0;34m)\u001b[0m \u001b[0;32mfor\u001b[0m \u001b[0mi\u001b[0m \u001b[0;32min\u001b[0m \u001b[0mrange\u001b[0m\u001b[0;34m(\u001b[0m\u001b[0mM\u001b[0m\u001b[0;34m.\u001b[0m\u001b[0mrows\u001b[0m\u001b[0;34m)\u001b[0m\u001b[0;34m]\u001b[0m \u001b[0;32mor\u001b[0m \u001b[0;34m[\u001b[0m\u001b[0;36m0\u001b[0m\u001b[0;34m]\u001b[0m\u001b[0;34m)\u001b[0m\u001b[0;34m\u001b[0m\u001b[0m\n\u001b[0m\u001b[1;32m    620\u001b[0m \u001b[0;34m\u001b[0m\u001b[0m\n\u001b[1;32m    621\u001b[0m         \u001b[0;31m# drawing result\u001b[0m\u001b[0;34m\u001b[0m\u001b[0;34m\u001b[0m\u001b[0m\n",
      "\u001b[0;32m/Users/cqm001/anaconda/envs/PHYS352/lib/python3.5/site-packages/sympy/printing/pretty/pretty.py\u001b[0m in \u001b[0;36m<listcomp>\u001b[0;34m(.0)\u001b[0m\n\u001b[1;32m    617\u001b[0m \u001b[0;34m\u001b[0m\u001b[0m\n\u001b[1;32m    618\u001b[0m         \u001b[0;32mfor\u001b[0m \u001b[0mj\u001b[0m \u001b[0;32min\u001b[0m \u001b[0mrange\u001b[0m\u001b[0;34m(\u001b[0m\u001b[0mM\u001b[0m\u001b[0;34m.\u001b[0m\u001b[0mcols\u001b[0m\u001b[0;34m)\u001b[0m\u001b[0;34m:\u001b[0m\u001b[0;34m\u001b[0m\u001b[0m\n\u001b[0;32m--> 619\u001b[0;31m             \u001b[0mmaxw\u001b[0m\u001b[0;34m[\u001b[0m\u001b[0mj\u001b[0m\u001b[0;34m]\u001b[0m \u001b[0;34m=\u001b[0m \u001b[0mmax\u001b[0m\u001b[0;34m(\u001b[0m\u001b[0;34m[\u001b[0m\u001b[0mMs\u001b[0m\u001b[0;34m[\u001b[0m\u001b[0mi\u001b[0m\u001b[0;34m,\u001b[0m \u001b[0mj\u001b[0m\u001b[0;34m]\u001b[0m\u001b[0;34m.\u001b[0m\u001b[0mwidth\u001b[0m\u001b[0;34m(\u001b[0m\u001b[0;34m)\u001b[0m \u001b[0;32mfor\u001b[0m \u001b[0mi\u001b[0m \u001b[0;32min\u001b[0m \u001b[0mrange\u001b[0m\u001b[0;34m(\u001b[0m\u001b[0mM\u001b[0m\u001b[0;34m.\u001b[0m\u001b[0mrows\u001b[0m\u001b[0;34m)\u001b[0m\u001b[0;34m]\u001b[0m \u001b[0;32mor\u001b[0m \u001b[0;34m[\u001b[0m\u001b[0;36m0\u001b[0m\u001b[0;34m]\u001b[0m\u001b[0;34m)\u001b[0m\u001b[0;34m\u001b[0m\u001b[0m\n\u001b[0m\u001b[1;32m    620\u001b[0m \u001b[0;34m\u001b[0m\u001b[0m\n\u001b[1;32m    621\u001b[0m         \u001b[0;31m# drawing result\u001b[0m\u001b[0;34m\u001b[0m\u001b[0;34m\u001b[0m\u001b[0m\n",
      "\u001b[0;31mAttributeError\u001b[0m: 'Fake' object has no attribute 'width'"
     ]
    },
    {
     "data": {
      "image/png": "[encoded data removed]",
      "text/latex": [
       "$$\\left[\\begin{matrix}a_{x} c_{1 1}\\hat{\\mathbf{x}} + a_{y} c_{1 1}\\hat{\\mathbf{y}} + a_{z} c_{1 1}\\hat{\\mathbf{z}} & a_{x} c_{1 2}\\hat{\\mathbf{x}} + a_{y} c_{1 2}\\hat{\\mathbf{y}} + a_{z} c_{1 2}\\hat{\\mathbf{z}} & a_{x} c_{1 3}\\hat{\\mathbf{x}} + a_{y} c_{1 3}\\hat{\\mathbf{y}} + a_{z} c_{1 3}\\hat{\\mathbf{z}}\\\\a_{x} c_{2 1}\\hat{\\mathbf{x}} + a_{y} c_{2 1}\\hat{\\mathbf{y}} + a_{z} c_{2 1}\\hat{\\mathbf{z}} & a_{x} c_{2 2}\\hat{\\mathbf{x}} + a_{y} c_{2 2}\\hat{\\mathbf{y}} + a_{z} c_{2 2}\\hat{\\mathbf{z}} & a_{x} c_{2 3}\\hat{\\mathbf{x}} + a_{y} c_{2 3}\\hat{\\mathbf{y}} + a_{z} c_{2 3}\\hat{\\mathbf{z}}\\\\a_{x} c_{3 1}\\hat{\\mathbf{x}} + a_{y} c_{3 1}\\hat{\\mathbf{y}} + a_{z} c_{3 1}\\hat{\\mathbf{z}} & a_{x} c_{3 2}\\hat{\\mathbf{x}} + a_{y} c_{3 2}\\hat{\\mathbf{y}} + a_{z} c_{3 2}\\hat{\\mathbf{z}} & a_{x} c_{3 3}\\hat{\\mathbf{x}} + a_{y} c_{3 3}\\hat{\\mathbf{y}} + a_{z} c_{3 3}\\hat{\\mathbf{z}}\\end{matrix}\\right]$$"
      ]
     },
     "execution_count": 21,
     "metadata": {},
     "output_type": "execute_result"
    }
   ],
   "source": [
    "C * avec"
   ]
  },
  {
   "cell_type": "markdown",
   "metadata": {},
   "source": [
    "It's possible to do linear transformations using this approach, but you have to do it by manipulating `ReferenceFrame`s. For some kinds of transformations (rotations come to mind) this makes a lot of sense, because it's very physically motivated. For others (like changing to an eigenvector basis for some operator) it's less obvious how to put it together.\n",
    "\n",
    "### Vector calculus\n",
    "\n",
    "The good news is, we get vector differential operators for free. Well, almost free. We have to make sure that our functions explicitly depend on the unit scalars in our coordinate system."
   ]
  },
  {
   "cell_type": "code",
   "execution_count": 22,
   "metadata": {},
   "outputs": [
    {
     "data": {
      "image/png": "[encoded data removed]",
      "text/latex": [
       "$$\\operatorname{a_1}\\left(x,y,z\\right)\\hat{\\mathbf{x}} + \\operatorname{a_2}\\left(x,y,z\\right)\\hat{\\mathbf{y}} + \\operatorname{a_3}\\left(x,y,z\\right)\\hat{\\mathbf{z}}$$"
      ],
      "text/plain": [
       "a₁(x, y, z) s_x + a₂(x, y, z) s_y + a₃(x, y, z) s_z"
      ]
     },
     "execution_count": 22,
     "metadata": {},
     "output_type": "execute_result"
    }
   ],
   "source": [
    "a_1 = sp.function.Function('a_1')(S[0], S[1], S[2])\n",
    "a_2 = sp.function.Function('a_2')(S[0], S[1], S[2])\n",
    "a_3 = sp.function.Function('a_3')(S[0], S[1], S[2])\n",
    "\n",
    "avec = a_1*S.x + a_2*S.y + a_3*S.z\n",
    "avec"
   ]
  },
  {
   "cell_type": "code",
   "execution_count": 23,
   "metadata": {},
   "outputs": [
    {
     "data": {
      "image/png": "[encoded data removed]",
      "text/latex": [
       "$$\\frac{\\partial}{\\partial x} \\operatorname{a_{1}}{\\left (x,y,z \\right )}\\hat{\\mathbf{x}} + \\frac{\\partial}{\\partial y} \\operatorname{a_{1}}{\\left (x,y,z \\right )}\\hat{\\mathbf{y}} + \\frac{\\partial}{\\partial z} \\operatorname{a_{1}}{\\left (x,y,z \\right )}\\hat{\\mathbf{z}}$$"
      ],
      "text/plain": [
       "∂                     ∂                     ∂\n",
       "──(a₁(x, y, z)) s_x + ──(a₁(x, y, z)) s_y + ──(a₁(x, y, z)) s_z\n",
       "∂x                    ∂y                    ∂z"
      ]
     },
     "execution_count": 23,
     "metadata": {},
     "output_type": "execute_result"
    }
   ],
   "source": [
    "physicsvector.gradient(a_1, S)"
   ]
  },
  {
   "cell_type": "code",
   "execution_count": 24,
   "metadata": {},
   "outputs": [
    {
     "data": {
      "image/png": "[encoded data removed]",
      "text/latex": [
       "$$\\frac{\\partial}{\\partial x} \\operatorname{a_{1}}{\\left (x,y,z \\right )} + \\frac{\\partial}{\\partial y} \\operatorname{a_{2}}{\\left (x,y,z \\right )} + \\frac{\\partial}{\\partial z} \\operatorname{a_{3}}{\\left (x,y,z \\right )}$$"
      ],
      "text/plain": [
       "∂                 ∂                 ∂              \n",
       "──(a₁(x, y, z)) + ──(a₂(x, y, z)) + ──(a₃(x, y, z))\n",
       "∂x                ∂y                ∂z             "
      ]
     },
     "execution_count": 24,
     "metadata": {},
     "output_type": "execute_result"
    }
   ],
   "source": [
    "physicsvector.divergence(avec, S)"
   ]
  },
  {
   "cell_type": "code",
   "execution_count": 25,
   "metadata": {},
   "outputs": [
    {
     "ename": "AttributeError",
     "evalue": "'tuple' object has no attribute 'right'",
     "output_type": "error",
     "traceback": [
      "\u001b[0;31m---------------------------------------------------------------------------\u001b[0m",
      "\u001b[0;31mAttributeError\u001b[0m                            Traceback (most recent call last)",
      "\u001b[0;32m/Users/cqm001/anaconda/envs/PHYS352/lib/python3.5/site-packages/IPython/core/formatters.py\u001b[0m in \u001b[0;36m__call__\u001b[0;34m(self, obj)\u001b[0m\n\u001b[1;32m    670\u001b[0m                 \u001b[0mtype_pprinters\u001b[0m\u001b[0;34m=\u001b[0m\u001b[0mself\u001b[0m\u001b[0;34m.\u001b[0m\u001b[0mtype_printers\u001b[0m\u001b[0;34m,\u001b[0m\u001b[0;34m\u001b[0m\u001b[0m\n\u001b[1;32m    671\u001b[0m                 deferred_pprinters=self.deferred_printers)\n\u001b[0;32m--> 672\u001b[0;31m             \u001b[0mprinter\u001b[0m\u001b[0;34m.\u001b[0m\u001b[0mpretty\u001b[0m\u001b[0;34m(\u001b[0m\u001b[0mobj\u001b[0m\u001b[0;34m)\u001b[0m\u001b[0;34m\u001b[0m\u001b[0m\n\u001b[0m\u001b[1;32m    673\u001b[0m             \u001b[0mprinter\u001b[0m\u001b[0;34m.\u001b[0m\u001b[0mflush\u001b[0m\u001b[0;34m(\u001b[0m\u001b[0;34m)\u001b[0m\u001b[0;34m\u001b[0m\u001b[0m\n\u001b[1;32m    674\u001b[0m             \u001b[0;32mreturn\u001b[0m \u001b[0mstream\u001b[0m\u001b[0;34m.\u001b[0m\u001b[0mgetvalue\u001b[0m\u001b[0;34m(\u001b[0m\u001b[0;34m)\u001b[0m\u001b[0;34m\u001b[0m\u001b[0m\n",
      "\u001b[0;32m/Users/cqm001/anaconda/envs/PHYS352/lib/python3.5/site-packages/IPython/lib/pretty.py\u001b[0m in \u001b[0;36mpretty\u001b[0;34m(self, obj)\u001b[0m\n\u001b[1;32m    366\u001b[0m                 \u001b[0;32mif\u001b[0m \u001b[0mcls\u001b[0m \u001b[0;32min\u001b[0m \u001b[0mself\u001b[0m\u001b[0;34m.\u001b[0m\u001b[0mtype_pprinters\u001b[0m\u001b[0;34m:\u001b[0m\u001b[0;34m\u001b[0m\u001b[0m\n\u001b[1;32m    367\u001b[0m                     \u001b[0;31m# printer registered in self.type_pprinters\u001b[0m\u001b[0;34m\u001b[0m\u001b[0;34m\u001b[0m\u001b[0m\n\u001b[0;32m--> 368\u001b[0;31m                     \u001b[0;32mreturn\u001b[0m \u001b[0mself\u001b[0m\u001b[0;34m.\u001b[0m\u001b[0mtype_pprinters\u001b[0m\u001b[0;34m[\u001b[0m\u001b[0mcls\u001b[0m\u001b[0;34m]\u001b[0m\u001b[0;34m(\u001b[0m\u001b[0mobj\u001b[0m\u001b[0;34m,\u001b[0m \u001b[0mself\u001b[0m\u001b[0;34m,\u001b[0m \u001b[0mcycle\u001b[0m\u001b[0;34m)\u001b[0m\u001b[0;34m\u001b[0m\u001b[0m\n\u001b[0m\u001b[1;32m    369\u001b[0m                 \u001b[0;32melse\u001b[0m\u001b[0;34m:\u001b[0m\u001b[0;34m\u001b[0m\u001b[0m\n\u001b[1;32m    370\u001b[0m                     \u001b[0;31m# deferred printer\u001b[0m\u001b[0;34m\u001b[0m\u001b[0;34m\u001b[0m\u001b[0m\n",
      "\u001b[0;32m/Users/cqm001/anaconda/envs/PHYS352/lib/python3.5/site-packages/sympy/interactive/printing.py\u001b[0m in \u001b[0;36m_print_plain\u001b[0;34m(arg, p, cycle)\u001b[0m\n\u001b[1;32m     66\u001b[0m         \u001b[0;34m\"\"\"caller for pretty, for use in IPython 0.11\"\"\"\u001b[0m\u001b[0;34m\u001b[0m\u001b[0m\n\u001b[1;32m     67\u001b[0m         \u001b[0;32mif\u001b[0m \u001b[0m_can_print_latex\u001b[0m\u001b[0;34m(\u001b[0m\u001b[0marg\u001b[0m\u001b[0;34m)\u001b[0m\u001b[0;34m:\u001b[0m\u001b[0;34m\u001b[0m\u001b[0m\n\u001b[0;32m---> 68\u001b[0;31m             \u001b[0mp\u001b[0m\u001b[0;34m.\u001b[0m\u001b[0mtext\u001b[0m\u001b[0;34m(\u001b[0m\u001b[0mstringify_func\u001b[0m\u001b[0;34m(\u001b[0m\u001b[0marg\u001b[0m\u001b[0;34m)\u001b[0m\u001b[0;34m)\u001b[0m\u001b[0;34m\u001b[0m\u001b[0m\n\u001b[0m\u001b[1;32m     69\u001b[0m         \u001b[0;32melse\u001b[0m\u001b[0;34m:\u001b[0m\u001b[0;34m\u001b[0m\u001b[0m\n\u001b[1;32m     70\u001b[0m             \u001b[0mp\u001b[0m\u001b[0;34m.\u001b[0m\u001b[0mtext\u001b[0m\u001b[0;34m(\u001b[0m\u001b[0mIPython\u001b[0m\u001b[0;34m.\u001b[0m\u001b[0mlib\u001b[0m\u001b[0;34m.\u001b[0m\u001b[0mpretty\u001b[0m\u001b[0;34m.\u001b[0m\u001b[0mpretty\u001b[0m\u001b[0;34m(\u001b[0m\u001b[0marg\u001b[0m\u001b[0;34m)\u001b[0m\u001b[0;34m)\u001b[0m\u001b[0;34m\u001b[0m\u001b[0m\n",
      "\u001b[0;32m/Users/cqm001/anaconda/envs/PHYS352/lib/python3.5/site-packages/sympy/printing/pretty/pretty.py\u001b[0m in \u001b[0;36mpretty\u001b[0;34m(expr, **settings)\u001b[0m\n\u001b[1;32m   2162\u001b[0m \u001b[0;34m\u001b[0m\u001b[0m\n\u001b[1;32m   2163\u001b[0m     \u001b[0;32mtry\u001b[0m\u001b[0;34m:\u001b[0m\u001b[0;34m\u001b[0m\u001b[0m\n\u001b[0;32m-> 2164\u001b[0;31m         \u001b[0;32mreturn\u001b[0m \u001b[0mpp\u001b[0m\u001b[0;34m.\u001b[0m\u001b[0mdoprint\u001b[0m\u001b[0;34m(\u001b[0m\u001b[0mexpr\u001b[0m\u001b[0;34m)\u001b[0m\u001b[0;34m\u001b[0m\u001b[0m\n\u001b[0m\u001b[1;32m   2165\u001b[0m     \u001b[0;32mfinally\u001b[0m\u001b[0;34m:\u001b[0m\u001b[0;34m\u001b[0m\u001b[0m\n\u001b[1;32m   2166\u001b[0m         \u001b[0mpretty_use_unicode\u001b[0m\u001b[0;34m(\u001b[0m\u001b[0muflag\u001b[0m\u001b[0;34m)\u001b[0m\u001b[0;34m\u001b[0m\u001b[0m\n",
      "\u001b[0;32m/Users/cqm001/anaconda/envs/PHYS352/lib/python3.5/site-packages/sympy/printing/pretty/pretty.py\u001b[0m in \u001b[0;36mdoprint\u001b[0;34m(self, expr)\u001b[0m\n\u001b[1;32m     60\u001b[0m \u001b[0;34m\u001b[0m\u001b[0m\n\u001b[1;32m     61\u001b[0m     \u001b[0;32mdef\u001b[0m \u001b[0mdoprint\u001b[0m\u001b[0;34m(\u001b[0m\u001b[0mself\u001b[0m\u001b[0;34m,\u001b[0m \u001b[0mexpr\u001b[0m\u001b[0;34m)\u001b[0m\u001b[0;34m:\u001b[0m\u001b[0;34m\u001b[0m\u001b[0m\n\u001b[0;32m---> 62\u001b[0;31m         \u001b[0;32mreturn\u001b[0m \u001b[0mself\u001b[0m\u001b[0;34m.\u001b[0m\u001b[0m_print\u001b[0m\u001b[0;34m(\u001b[0m\u001b[0mexpr\u001b[0m\u001b[0;34m)\u001b[0m\u001b[0;34m.\u001b[0m\u001b[0mrender\u001b[0m\u001b[0;34m(\u001b[0m\u001b[0;34m**\u001b[0m\u001b[0mself\u001b[0m\u001b[0;34m.\u001b[0m\u001b[0m_settings\u001b[0m\u001b[0;34m)\u001b[0m\u001b[0;34m\u001b[0m\u001b[0m\n\u001b[0m\u001b[1;32m     63\u001b[0m \u001b[0;34m\u001b[0m\u001b[0m\n\u001b[1;32m     64\u001b[0m     \u001b[0;31m# empty op so _print(stringPict) returns the same\u001b[0m\u001b[0;34m\u001b[0m\u001b[0;34m\u001b[0m\u001b[0m\n",
      "\u001b[0;32m/Users/cqm001/anaconda/envs/PHYS352/lib/python3.5/site-packages/sympy/physics/vector/vector.py\u001b[0m in \u001b[0;36mrender\u001b[0;34m(self, *args, **kwargs)\u001b[0m\n\u001b[1;32m    283\u001b[0m                                 pform = vp._print(\n\u001b[1;32m    284\u001b[0m                                     ar[i][0][j])\n\u001b[0;32m--> 285\u001b[0;31m                             pform = prettyForm(*pform.right(\" \",\n\u001b[0m\u001b[1;32m    286\u001b[0m                                                 ar[i][1].pretty_vecs[j]))\n\u001b[1;32m    287\u001b[0m                         \u001b[0;32melse\u001b[0m\u001b[0;34m:\u001b[0m\u001b[0;34m\u001b[0m\u001b[0m\n",
      "\u001b[0;31mAttributeError\u001b[0m: 'tuple' object has no attribute 'right'"
     ]
    },
    {
     "data": {
      "image/png": "[encoded data removed]",
      "text/latex": [
       "$$(- \\frac{\\partial}{\\partial z} \\operatorname{a_{2}}{\\left (x,y,z \\right )} + \\frac{\\partial}{\\partial y} \\operatorname{a_{3}}{\\left (x,y,z \\right )})\\hat{\\mathbf{x}} + (\\frac{\\partial}{\\partial z} \\operatorname{a_{1}}{\\left (x,y,z \\right )} - \\frac{\\partial}{\\partial x} \\operatorname{a_{3}}{\\left (x,y,z \\right )})\\hat{\\mathbf{y}} + (- \\frac{\\partial}{\\partial y} \\operatorname{a_{1}}{\\left (x,y,z \\right )} + \\frac{\\partial}{\\partial x} \\operatorname{a_{2}}{\\left (x,y,z \\right )})\\hat{\\mathbf{z}}$$"
      ]
     },
     "execution_count": 25,
     "metadata": {},
     "output_type": "execute_result"
    }
   ],
   "source": [
    "physicsvector.curl(avec, S)"
   ]
  },
  {
   "cell_type": "markdown",
   "metadata": {},
   "source": [
    "---\n",
    "\n",
    "## The `sympy.vector` module\n",
    "\n",
    "This approach is very similar to the previous one, but with a couple of wrinkles. First, instead of a `ReferenceFrame`, you now need a coordinate system (a `CoordSys3D` object). In the current (1.1.1) version of `sympy`, only cartesian coordinates are officially supported, but other coordinate systems are available in the development version. As you'll see at the end of this section, we can cheat a bit to make use of spherical and cartesian coordinates."
   ]
  },
  {
   "cell_type": "code",
   "execution_count": 26,
   "metadata": {
    "collapsed": true
   },
   "outputs": [],
   "source": [
    "import sympy.vector as vector"
   ]
  },
  {
   "cell_type": "code",
   "execution_count": 27,
   "metadata": {
    "collapsed": true
   },
   "outputs": [],
   "source": [
    "C = vector.CoordSys3D('C')"
   ]
  },
  {
   "cell_type": "code",
   "execution_count": 28,
   "metadata": {},
   "outputs": [
    {
     "data": {
      "image/png": "[encoded data removed]",
      "text/latex": [
       "$${x}_{C}$$"
      ],
      "text/plain": [
       "C_x"
      ]
     },
     "execution_count": 28,
     "metadata": {},
     "output_type": "execute_result"
    }
   ],
   "source": [
    "C.x"
   ]
  },
  {
   "cell_type": "markdown",
   "metadata": {},
   "source": [
    "If you rerun these cells, you will see that the developers made three bad choices in putting together the pretty printing here. First of all, scalars ought to be italicized instead of bold, and second, there isn't a convenient way to get rid of the subscripts. The result is that vectors using this approach are cluttered and hard to read. Lastly, they went with i, j, and k for the unit vectors. That's a matter of personal preference, I guess, but I don't care for it. (Furthermore, if you're going to use hats on i or j, you should use the dotless versions.)\n",
    "\n",
    "I've patched my own copy of the code, so it looks nicer (because I'm super picky)."
   ]
  },
  {
   "cell_type": "code",
   "execution_count": 29,
   "metadata": {},
   "outputs": [
    {
     "data": {
      "image/png": "[encoded data removed]",
      "text/latex": [
       "$$({x}_{C})\\mathbf{\\hat{i}_{C}} + ({y}_{C})\\mathbf{\\hat{j}_{C}} + ({z}_{C})\\mathbf{\\hat{k}_{C}}$$"
      ],
      "text/plain": [
       "(C_x) C_i + (C_y) C_j + (C_z) C_k"
      ]
     },
     "execution_count": 29,
     "metadata": {},
     "output_type": "execute_result"
    }
   ],
   "source": [
    "C.x*C.i + C.y*C.j + C.z*C.k"
   ]
  },
  {
   "cell_type": "markdown",
   "metadata": {},
   "source": [
    "You can get around the subscript problem by giving the coordinate system an empty string for a name, and you can rename the unit vectors (though it supplies the hats and bold face for you). The coordinate scalars are still in bold face, which bothers me more than it should."
   ]
  },
  {
   "cell_type": "code",
   "execution_count": 30,
   "metadata": {},
   "outputs": [
    {
     "data": {
      "image/png": "[encoded data removed]",
      "text/latex": [
       "$$({x}_{})\\mathbf{\\hat{x}_{}} + ({y}_{})\\mathbf{\\hat{y}_{}} + ({z}_{})\\mathbf{\\hat{z}_{}}$$"
      ],
      "text/plain": [
       "(_x) _x + (_y) _y + (_z) _z"
      ]
     },
     "execution_count": 30,
     "metadata": {},
     "output_type": "execute_result"
    }
   ],
   "source": [
    "R = vector.CoordSys3D('', vector_names=['x', 'y', 'z'])\n",
    "R.x*R.i + R.y*R.j + R.z*R.k"
   ]
  },
  {
   "cell_type": "code",
   "execution_count": 31,
   "metadata": {
    "collapsed": true
   },
   "outputs": [],
   "source": [
    "avec = a[0]*R.i + a[1]*R.j + a[2]*R.k\n",
    "bvec = b[0]*R.i + b[1]*R.j + b[2]*R.k"
   ]
  },
  {
   "cell_type": "code",
   "execution_count": 32,
   "metadata": {},
   "outputs": [
    {
     "data": {
      "image/png": "[encoded data removed]",
      "text/latex": [
       "$$a_{x} b_{x} + a_{y} b_{y} + a_{z} b_{z}$$"
      ],
      "text/plain": [
       "aₓ⋅bₓ + a_y⋅b_y + a_z⋅b_z"
      ]
     },
     "execution_count": 32,
     "metadata": {},
     "output_type": "execute_result"
    }
   ],
   "source": [
    "avec.dot(bvec)"
   ]
  },
  {
   "cell_type": "code",
   "execution_count": 33,
   "metadata": {},
   "outputs": [
    {
     "data": {
      "image/png": "[encoded data removed]",
      "text/latex": [
       "$$(a_{y} b_{z} - a_{z} b_{y})\\mathbf{\\hat{x}_{}} + (- a_{x} b_{z} + a_{z} b_{x})\\mathbf{\\hat{y}_{}} + (a_{x} b_{y} - a_{y} b_{x})\\mathbf{\\hat{z}_{}}$$"
      ],
      "text/plain": [
       "(a_y⋅b_z - a_z⋅b_y) _x + (-aₓ⋅b_z + a_z⋅bₓ) _y + (aₓ⋅b_y - a_y⋅bₓ) _z"
      ]
     },
     "execution_count": 33,
     "metadata": {},
     "output_type": "execute_result"
    }
   ],
   "source": [
    "avec.cross(bvec)"
   ]
  },
  {
   "cell_type": "markdown",
   "metadata": {},
   "source": [
    "The pretty printer used in the `sympy.vector` module fortunately doesn't have the same bug as the `physics.vector` module; that may be enough reason to choose this one. Otherwise, it's about the same. Linear transformations happen by working with coordinate systems, and we get vector differential operators for free. Here, however, the coordinate scalars are obtained by introspection, and the coordinate system isn't a necessary argument."
   ]
  },
  {
   "cell_type": "code",
   "execution_count": 34,
   "metadata": {},
   "outputs": [
    {
     "data": {
      "image/png": "[encoded data removed]",
      "text/latex": [
       "$$({y}_{} {z}_{})\\mathbf{\\hat{x}_{}} + ({x}_{} {z}_{})\\mathbf{\\hat{y}_{}} + ({x}_{} {y}_{})\\mathbf{\\hat{z}_{}}$$"
      ],
      "text/plain": [
       "(_y⋅_z) _x + (_x⋅_z) _y + (_x⋅_y) _z"
      ]
     },
     "execution_count": 34,
     "metadata": {},
     "output_type": "execute_result"
    }
   ],
   "source": [
    "phi = R.x*R.y*R.z\n",
    "vector.gradient(phi)"
   ]
  },
  {
   "cell_type": "code",
   "execution_count": 35,
   "metadata": {},
   "outputs": [
    {
     "data": {
      "image/png": "[encoded data removed]",
      "text/latex": [
       "$$3$$"
      ],
      "text/plain": [
       "3"
      ]
     },
     "execution_count": 35,
     "metadata": {},
     "output_type": "execute_result"
    }
   ],
   "source": [
    "vector.divergence(C.x*C.i + C.y*C.j + C.z*C.k)"
   ]
  },
  {
   "cell_type": "code",
   "execution_count": 36,
   "metadata": {},
   "outputs": [
    {
     "data": {
      "image/png": "[encoded data removed]",
      "text/latex": [
       "$$({x}_{C})\\mathbf{\\hat{i}_{C}} + (- {y}_{C})\\mathbf{\\hat{j}_{C}}$$"
      ],
      "text/plain": [
       "(C_x) C_i + (-C_y) C_j"
      ]
     },
     "execution_count": 36,
     "metadata": {},
     "output_type": "execute_result"
    }
   ],
   "source": [
    "vector.curl(C.x*C.y*C.k)"
   ]
  },
  {
   "cell_type": "markdown",
   "metadata": {},
   "source": [
    "We get cylindrical and spherical coordinate systems, too, though you have to be a bit sneaky to make use of them. Actually, the machinery is there to work with any orthogonal curvilinear coordinate system, but spherical and cylindrical are especially easy. The key is to use the private method `vector.CoordSys3D._connect_to_standard_cartesian` with an argument of either `spherical` or `cylindrical`.\n",
    "\n",
    "In common python practice, methods which start with an underscore are *private*, which means that they shouldn't be used by anyone externally. We're going to break that rule here because there isn't (yet) a public way to access this method, and it does what we need it to do.\n",
    "\n",
    "For example, we can make a spherical coordinate system:"
   ]
  },
  {
   "cell_type": "code",
   "execution_count": 37,
   "metadata": {
    "collapsed": true
   },
   "outputs": [],
   "source": [
    "S = vector.CoordSys3D('', vector_names=['r', \"\\\\theta\", r\"\\phi\"],\n",
    "                     variable_names=['r', \"\\\\theta\", r\"\\phi\"])\n",
    "\n",
    "S._connect_to_standard_cartesian('spherical')"
   ]
  },
  {
   "cell_type": "markdown",
   "metadata": {},
   "source": [
    "For convenience, I like to create some python variables with more intuitive names."
   ]
  },
  {
   "cell_type": "code",
   "execution_count": 38,
   "metadata": {
    "collapsed": true
   },
   "outputs": [],
   "source": [
    "r = S.x\n",
    "theta = S.y\n",
    "phi = S.z\n",
    "rhat = S.i\n",
    "thetahat = S.j\n",
    "phihat = S.k"
   ]
  },
  {
   "cell_type": "markdown",
   "metadata": {},
   "source": [
    "Let's test it by taking the divergence and curl of a vector function."
   ]
  },
  {
   "cell_type": "code",
   "execution_count": 39,
   "metadata": {},
   "outputs": [
    {
     "data": {
      "image/png": "[encoded data removed]",
      "text/latex": [
       "$$\\frac{1}{\\sin{\\left ({\\theta}_{} \\right )} {r}_{}^{2}} \\left(- 4 \\sin^{2}{\\left ({\\theta}_{} \\right )} {r}_{}^{3} + 4 \\cos^{2}{\\left ({\\theta}_{} \\right )} {r}_{}^{3}\\right) + 4 \\sin{\\left ({\\theta}_{} \\right )} {r}_{}$$"
      ],
      "text/plain": [
       "       2            3        2            3                    \n",
       "- 4⋅sin (_\\theta)⋅_r  + 4⋅cos (_\\theta)⋅_r                     \n",
       "─────────────────────────────────────────── + 4⋅sin(_\\theta)⋅_r\n",
       "                             2                                 \n",
       "              sin(_\\theta)⋅_r                                  "
      ]
     },
     "execution_count": 39,
     "metadata": {},
     "output_type": "execute_result"
    }
   ],
   "source": [
    "v = r**2*sp.sin(theta)*rhat + 4*r**2*sp.cos(theta)*thetahat + r**2*sp.tan(theta)*phihat\n",
    "\n",
    "vector.divergence(v)"
   ]
  },
  {
   "cell_type": "markdown",
   "metadata": {},
   "source": [
    "Messy. Can we tidy it up?"
   ]
  },
  {
   "cell_type": "code",
   "execution_count": 40,
   "metadata": {},
   "outputs": [
    {
     "data": {
      "image/png": "[encoded data removed]",
      "text/latex": [
       "$$\\frac{4 \\cos^{2}{\\left ({\\theta}_{} \\right )} {r}_{}}{\\sin{\\left ({\\theta}_{} \\right )}}$$"
      ],
      "text/plain": [
       "     2            \n",
       "4⋅cos (_\\theta)⋅_r\n",
       "──────────────────\n",
       "   sin(_\\theta)   "
      ]
     },
     "execution_count": 40,
     "metadata": {},
     "output_type": "execute_result"
    }
   ],
   "source": [
    "sp.simplify(vector.divergence(v))"
   ]
  },
  {
   "cell_type": "code",
   "execution_count": 41,
   "metadata": {},
   "outputs": [
    {
     "data": {
      "image/png": "[encoded data removed]",
      "text/latex": [
       "$$(11 \\cos{\\left ({\\theta}_{} \\right )} {r}_{})\\mathbf{\\hat{\\phi}_{}} + (- 3 \\tan{\\left ({\\theta}_{} \\right )} {r}_{})\\mathbf{\\hat{\\theta}_{}} + ({r}_{} + \\frac{{r}_{}}{\\cos^{2}{\\left ({\\theta}_{} \\right )}})\\mathbf{\\hat{r}_{}}$$"
      ],
      "text/plain": [
       "(11⋅cos(_\\theta)⋅_r) _\\phi + (-3⋅tan(_\\theta)⋅_r) _\\theta + ⎛                ⎞\n",
       "                                                            ⎜ + ─────────────⎟\n",
       "                                                            ⎜        2        \n",
       "                                                            ⎝     cos (_\\theta\n",
       "\n",
       " _r\n",
       "   \n",
       " ⎟ \n",
       ")⎠ "
      ]
     },
     "execution_count": 41,
     "metadata": {},
     "output_type": "execute_result"
    }
   ],
   "source": [
    "sp.simplify(vector.curl(v))"
   ]
  },
  {
   "cell_type": "markdown",
   "metadata": {},
   "source": [
    "Beautiful. This is officially my preferred method of working with vectors in `sympy`. Note that it is new as of version 1.1 or 1.1.1 (not really sure which; I'm using 1.1.1 which is current as of this writing). If you have an earlier version, you'll have to use one of the other methods."
   ]
  },
  {
   "cell_type": "code",
   "execution_count": null,
   "metadata": {
    "collapsed": true
   },
   "outputs": [],
   "source": []
  }
 ],
 "metadata": {
  "kernelspec": {
   "display_name": "Python 3",
   "language": "python",
   "name": "python3"
  },
  "language_info": {
   "codemirror_mode": {
    "name": "ipython",
    "version": 3
   },
   "file_extension": ".py",
   "mimetype": "text/x-python",
   "name": "python",
   "nbconvert_exporter": "python",
   "pygments_lexer": "ipython3",
   "version": "3.6.1"
  }
 },
 "nbformat": 4,
 "nbformat_minor": 2
}
