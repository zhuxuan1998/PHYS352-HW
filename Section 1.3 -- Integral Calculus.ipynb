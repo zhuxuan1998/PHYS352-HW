{
 "cells": [
  {
   "cell_type": "code",
   "execution_count": 1,
   "metadata": {
    "collapsed": true
   },
   "outputs": [],
   "source": [
    "import sympy as sp\n",
    "from sympy import vector\n",
    "\n",
    "sp.init_printing()"
   ]
  },
  {
   "cell_type": "markdown",
   "metadata": {},
   "source": [
    "## Problem 1.29\n",
    "Calculate the line integral of the function $\\mathbf{v} = x^2 \\hat{\\mathbf{x}} + 2yz \\hat{\\mathbf{y}} + y^2 \\hat{\\mathbf{z}}$ from the origin to the point $(1,1,1)$ by three different routes:\n",
    "1. $(0,0,0) \\rightarrow (1,0,0) \\rightarrow (1,1,0) \\rightarrow (1,1,1) $\n",
    "2. $(0,0,0) \\rightarrow (0,0,1) \\rightarrow (0,1,1) \\rightarrow (1,1,1) $\n",
    "3. The direct straight line\n",
    "4. What is the line integral around the closed loop that goes *out* along path (1) and *back* along path (2)? \n",
    "\n",
    "---\n",
    "#### Solution:\n"
   ]
  },
  {
   "cell_type": "code",
   "execution_count": 2,
   "metadata": {},
   "outputs": [
    {
     "data": {
      "image/png": "[encoded data removed]",
      "text/latex": [
       "$$({x}_{}^{2})\\mathbf{\\hat{i}_{}} + (2 {y}_{} {z}_{})\\mathbf{\\hat{j}_{}} + ({y}_{}^{2})\\mathbf{\\hat{k}_{}}$$"
      ],
      "text/plain": [
       "⎛  2⎞ _i + (2⋅_y⋅_z) _j + ⎛  2⎞ _k\n",
       "⎝_x ⎠                     ⎝_y ⎠   "
      ]
     },
     "execution_count": 2,
     "metadata": {},
     "output_type": "execute_result"
    }
   ],
   "source": [
    "C = vector.CoordSys3D('')\n",
    "v = C.x**2*C.i + 2*C.y*C.z*C.j + C.y**2*C.k\n",
    "v"
   ]
  },
  {
   "cell_type": "markdown",
   "metadata": {},
   "source": [
    "##### Path 1:\n",
    "\n",
    "For the first step of the first path, we're going along the $x$-axis from $0$ to $1$. Our line element is then just $dx\\,\\hat{\\mathbf{x}}$, and both $y$ and $z$ are held at $0$."
   ]
  },
  {
   "cell_type": "code",
   "execution_count": 6,
   "metadata": {},
   "outputs": [
    {
     "data": {
      "image/png": "[encoded data removed]",
      "text/latex": [
       "$$\\frac{1}{3}$$"
      ],
      "text/plain": [
       "1/3"
      ]
     },
     "execution_count": 6,
     "metadata": {},
     "output_type": "execute_result"
    }
   ],
   "source": [
    "dla = C.i\n",
    "va = v.dot(dla).subs({C.y:0, C.z:0})\n",
    "\n",
    "first = sp.integrate(va, (C.x, 0, 1))\n",
    "first"
   ]
  },
  {
   "cell_type": "markdown",
   "metadata": {},
   "source": [
    "In the second step, we're going up the $y$-axis, but now $x=1$."
   ]
  },
  {
   "cell_type": "code",
   "execution_count": 8,
   "metadata": {},
   "outputs": [
    {
     "data": {
      "image/png": "[encoded data removed]",
      "text/latex": [
       "$$0$$"
      ],
      "text/plain": [
       "0"
      ]
     },
     "execution_count": 8,
     "metadata": {},
     "output_type": "execute_result"
    }
   ],
   "source": [
    "dlb = C.j\n",
    "vb = v.dot(dlb).subs({C.x:1, C.z:0})\n",
    "second = sp.integrate(vb, (C.y, 0, 1))\n",
    "second"
   ]
  },
  {
   "cell_type": "markdown",
   "metadata": {},
   "source": [
    "We finish by going along the $z$-axis, with both $x=1$ and $y=1$."
   ]
  },
  {
   "cell_type": "code",
   "execution_count": 9,
   "metadata": {},
   "outputs": [
    {
     "data": {
      "image/png": "[encoded data removed]",
      "text/latex": [
       "$$1$$"
      ],
      "text/plain": [
       "1"
      ]
     },
     "execution_count": 9,
     "metadata": {},
     "output_type": "execute_result"
    }
   ],
   "source": [
    "dlc = C.k\n",
    "vc = v.dot(dlc).subs({C.x:1, C.y:1})\n",
    "third = sp.integrate(vc, (C.z, 0, 1))\n",
    "third"
   ]
  },
  {
   "cell_type": "markdown",
   "metadata": {},
   "source": [
    "Add it up for the total."
   ]
  },
  {
   "cell_type": "code",
   "execution_count": 10,
   "metadata": {},
   "outputs": [
    {
     "data": {
      "image/png": "[encoded data removed]",
      "text/latex": [
       "$$\\frac{4}{3}$$"
      ],
      "text/plain": [
       "4/3"
      ]
     },
     "execution_count": 10,
     "metadata": {},
     "output_type": "execute_result"
    }
   ],
   "source": [
    "first + second + third"
   ]
  },
  {
   "cell_type": "markdown",
   "metadata": {},
   "source": [
    "##### Path 2:\n",
    "\n",
    "We do essentially the same thing, but in a different order, which requires different substitutions."
   ]
  },
  {
   "cell_type": "code",
   "execution_count": 11,
   "metadata": {},
   "outputs": [
    {
     "data": {
      "image/png": "[encoded data removed]",
      "text/latex": [
       "$$\\frac{4}{3}$$"
      ],
      "text/plain": [
       "4/3"
      ]
     },
     "execution_count": 11,
     "metadata": {},
     "output_type": "execute_result"
    }
   ],
   "source": [
    "dla = C.k\n",
    "va = v.dot(dla).subs({C.x:0, C.y:0})\n",
    "first = sp.integrate(va, (C.z, 0, 1))\n",
    "\n",
    "dlb = C.j\n",
    "vb = v.dot(dlb).subs({C.x:0, C.z:1})\n",
    "second = sp.integrate(vb, (C.y, 0, 1))\n",
    "\n",
    "dlc = C.i\n",
    "vc = v.dot(dlc).subs({C.y:1, C.z:1})\n",
    "third = sp.integrate(vc, (C.x, 0, 1))\n",
    "\n",
    "first + second + third"
   ]
  },
  {
   "cell_type": "markdown",
   "metadata": {},
   "source": [
    "##### Path 3:\n",
    "Along the straight line, $x=y=z$, so we'll just convert everything to $x$."
   ]
  },
  {
   "cell_type": "code",
   "execution_count": 15,
   "metadata": {},
   "outputs": [
    {
     "data": {
      "image/png": "[encoded data removed]",
      "text/latex": [
       "$$\\frac{4}{3}$$"
      ],
      "text/plain": [
       "4/3"
      ]
     },
     "execution_count": 15,
     "metadata": {},
     "output_type": "execute_result"
    }
   ],
   "source": [
    "# line element\n",
    "dl = (C.i + C.j + C.k)\n",
    "\n",
    "# v along the line, with substitutions\n",
    "vl = v.dot(dl).subs({C.y:C.x, C.z:C.x})\n",
    "\n",
    "sp.integrate(vl, (C.x, 0, 1))"
   ]
  },
  {
   "cell_type": "markdown",
   "metadata": {},
   "source": [
    "All three paths gave the same result, which suggests that this might be the gradient of a scalar function. By inspection,"
   ]
  },
  {
   "cell_type": "code",
   "execution_count": 17,
   "metadata": {},
   "outputs": [
    {
     "data": {
      "image/png": "[encoded data removed]",
      "text/latex": [
       "$$({x}_{}^{2})\\mathbf{\\hat{i}_{}} + (2 {y}_{} {z}_{})\\mathbf{\\hat{j}_{}} + ({y}_{}^{2})\\mathbf{\\hat{k}_{}}$$"
      ],
      "text/plain": [
       "⎛  2⎞ _i + (2⋅_y⋅_z) _j + ⎛  2⎞ _k\n",
       "⎝_x ⎠                     ⎝_y ⎠   "
      ]
     },
     "execution_count": 17,
     "metadata": {},
     "output_type": "execute_result"
    }
   ],
   "source": [
    "scalar_function = C.x**3/3 + C.y**2*C.z\n",
    "vector.gradient(scalar_function)"
   ]
  },
  {
   "cell_type": "markdown",
   "metadata": {},
   "source": [
    "##### Path 4:\n",
    "If we're taking path 2 backwards, it will change the sign of the result. Adding that to the result from path 1, we get 0.\n",
    "\n",
    "---\n",
    "\n",
    "---"
   ]
  },
  {
   "cell_type": "markdown",
   "metadata": {},
   "source": [
    "## Problem 1.30\n",
    "\n",
    "Calculate the surface integral of the function in Ex. 1.7 over the *bottom* of the box. For consistency, let upwrad be\n",
    "the positive direction. Does the surface integral depend only on the boundary line for this function? What is the total flux over the total surface of the box including the bottom?\n",
    "\n",
    "---\n",
    "#### Solution:"
   ]
  },
  {
   "cell_type": "code",
   "execution_count": 20,
   "metadata": {},
   "outputs": [
    {
     "data": {
      "image/png": "[encoded data removed]",
      "text/latex": [
       "$$-12$$"
      ],
      "text/plain": [
       "-12"
      ]
     },
     "execution_count": 20,
     "metadata": {},
     "output_type": "execute_result"
    }
   ],
   "source": [
    "v = 2*C.x*C.z*C.i + (C.x+2)*C.j + C.y*(C.z**2-3)*C.k\n",
    "\n",
    "da_direction = C.k\n",
    "\n",
    "vdotda_bottom = v.dot(da_direction).subs({C.z:0})\n",
    "inner = sp.integrate(vdotda_bottom, (C.x, 0, 2))\n",
    "full = sp.integrate(inner, (C.y,0,2))\n",
    "full"
   ]
  },
  {
   "cell_type": "markdown",
   "metadata": {},
   "source": [
    "This is different from the value obtained in Ex 1.7 for the rest of the box, which was 20, so the surface integral is **not** solely dependent on the boundary. If we add the negative of this (as per the hint) to the result from the example, we find that the total flux through the box is 32."
   ]
  },
  {
   "cell_type": "markdown",
   "metadata": {},
   "source": [
    "## Problem 1.32"
   ]
  },
  {
   "cell_type": "code",
   "execution_count": null,
   "metadata": {
    "collapsed": true
   },
   "outputs": [],
   "source": []
  },
  {
   "cell_type": "markdown",
   "metadata": {},
   "source": [
    "## Problem 1.35"
   ]
  },
  {
   "cell_type": "code",
   "execution_count": null,
   "metadata": {
    "collapsed": true
   },
   "outputs": [],
   "source": []
  },
  {
   "cell_type": "code",
   "execution_count": null,
   "metadata": {
    "collapsed": true
   },
   "outputs": [],
   "source": []
  }
 ],
 "metadata": {
  "kernelspec": {
   "display_name": "Python 3",
   "language": "python",
   "name": "python3"
  },
  "language_info": {
   "codemirror_mode": {
    "name": "ipython",
    "version": 3
   },
   "file_extension": ".py",
   "mimetype": "text/x-python",
   "name": "python",
   "nbconvert_exporter": "python",
   "pygments_lexer": "ipython3",
   "version": "3.5.3"
  }
 },
 "nbformat": 4,
 "nbformat_minor": 2
}
