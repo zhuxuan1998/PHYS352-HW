{
 "cells": [
  {
   "cell_type": "code",
   "execution_count": 1,
   "metadata": {
    "collapsed": true
   },
   "outputs": [],
   "source": [
    "import sympy as sp\n",
    "sp.init_printing()\n",
    "\n",
    "from sympy import vector\n",
    "\n",
    "S = vector.CoordSys3D('', vector_names=['r', \"\\\\theta\", r\"\\phi\"],\n",
    "                     variable_names=['r', \"\\\\theta\", r\"\\phi\"])"
   ]
  },
  {
   "cell_type": "markdown",
   "metadata": {},
   "source": [
    "## Problem 1.40"
   ]
  },
  {
   "cell_type": "markdown",
   "metadata": {},
   "source": [
    "## Problem 1.43"
   ]
  },
  {
   "cell_type": "markdown",
   "metadata": {},
   "source": [
    "## Problem 1.44"
   ]
  },
  {
   "cell_type": "markdown",
   "metadata": {},
   "source": [
    "## Problem 1.45"
   ]
  },
  {
   "cell_type": "markdown",
   "metadata": {},
   "source": [
    "## Problem 1.58"
   ]
  },
  {
   "cell_type": "markdown",
   "metadata": {},
   "source": [
    "### Problem 1.59\n",
    "Check the divergence theorem for the function $$\\mathbf{v} = r^2\\sin\\theta\\,\\hat{\\mathbf{r}} + 4r^2\\cos\\theta\\,\\hat{\\boldsymbol{\\theta}} + r^2\\tan\\theta \\,\\hat{\\boldsymbol{\\phi}} $$ using the volume of the ice-cream cone shown in figure 1.52.\n",
    "\n",
    "*[Answer: $\\pi R^4/12)(2\\pi + 3\\sqrt{3})$]*\n"
   ]
  },
  {
   "cell_type": "code",
   "execution_count": 2,
   "metadata": {
    "collapsed": true
   },
   "outputs": [],
   "source": [
    "r = S.x\n",
    "theta = S.y\n",
    "phi = S.z\n",
    "rhat = S.i\n",
    "thetahat = S.j\n",
    "phihat = S.k\n",
    "\n",
    "v = r**2*sp.sin(theta)*rhat + 4*r**2*sp.cos(theta)*thetahat + r**2*sp.tan(theta)*phihat"
   ]
  },
  {
   "cell_type": "code",
   "execution_count": 3,
   "metadata": {
    "collapsed": true
   },
   "outputs": [],
   "source": [
    "def div_spherical(vec):\n",
    "    \"\"\"Take the divergence in spherical coordinates.\n",
    "    \n",
    "    Works on a sympy.vector style vector.\n",
    "    \"\"\"\n",
    "    \n",
    "    # this was not obvious to me; required some source diving\n",
    "    coordsys = list(vec.atoms(vector.CoordSys3D))[0]\n",
    "    \n",
    "    # to simplify notation\n",
    "    r = coordsys.x\n",
    "    theta = coordsys.y\n",
    "    phi = coordsys.z\n",
    "    \n",
    "    rhat = coordsys.i\n",
    "    thetahat = coordsys.j\n",
    "    phihat = coordsys.k\n",
    "    \n",
    "    # from the inside cover of Griffiths\n",
    "    divr = (1/r**2 * sp.diff(r**2*vec.dot(rhat), r) + \n",
    "        1/(r*sp.sin(theta))*sp.diff(sp.sin(theta)*vec.dot(thetahat), theta) +\n",
    "        1/(r*sp.sin(theta))*sp.diff(vec.dot(phihat), phi))\n",
    "    \n",
    "    return divr"
   ]
  },
  {
   "cell_type": "code",
   "execution_count": 8,
   "metadata": {},
   "outputs": [
    {
     "data": {
      "image/png": "[encoded data removed]",
      "text/latex": [
       "$$\\frac{\\pi R^{4}}{12} \\left(3 \\sqrt{3} + 2 \\pi\\right)$$"
      ],
      "text/plain": [
       "   4             \n",
       "π⋅R ⋅(3⋅√3 + 2⋅π)\n",
       "─────────────────\n",
       "        12       "
      ]
     },
     "execution_count": 8,
     "metadata": {},
     "output_type": "execute_result"
    }
   ],
   "source": [
    "R = sp.symbols('R')\n",
    "\n",
    "cream = sp.integrate(sp.integrate( (v.dot(rhat)*r**2*sp.sin(theta)).subs(r, R),\n",
    "                                (theta, 0, sp.pi/6)),\n",
    "                   (phi, 0, 2*sp.pi))\n",
    "cone = sp.integrate(sp.integrate( (v.dot(thetahat)*r*sp.sin(theta)).subs(theta, sp.pi/6),\n",
    "                                (r, 0, R)),\n",
    "                   (phi, 0, 2*sp.pi))\n",
    "\n",
    "surface_integral = cone + cream\n",
    "sp.simplify(surface_integral)"
   ]
  },
  {
   "cell_type": "code",
   "execution_count": 9,
   "metadata": {},
   "outputs": [
    {
     "data": {
      "image/png": "[encoded data removed]",
      "text/latex": [
       "$$2 \\pi R^{4} \\left(\\frac{\\sqrt{3}}{8} + \\frac{\\pi}{12}\\right)$$"
      ],
      "text/plain": [
       "     4 ⎛√3   π ⎞\n",
       "2⋅π⋅R ⋅⎜── + ──⎟\n",
       "       ⎝8    12⎠"
      ]
     },
     "execution_count": 9,
     "metadata": {},
     "output_type": "execute_result"
    }
   ],
   "source": [
    "div_v = sp.simplify(div_spherical(v))\n",
    "\n",
    "volume_integral = sp.integrate(sp.integrate(sp.integrate(div_v*r**2*sp.sin(theta),\n",
    "                                                        (r, 0, R)),\n",
    "                                           (theta, 0, sp.pi/6)),\n",
    "                              (phi, 0, 2*sp.pi))\n",
    "volume_integral"
   ]
  },
  {
   "cell_type": "code",
   "execution_count": 11,
   "metadata": {},
   "outputs": [
    {
     "data": {
      "image/png": "[encoded data removed]",
      "text/latex": [
       "$$0$$"
      ],
      "text/plain": [
       "0"
      ]
     },
     "execution_count": 11,
     "metadata": {},
     "output_type": "execute_result"
    }
   ],
   "source": [
    "sp.simplify(surface_integral - volume_integral)"
   ]
  },
  {
   "cell_type": "code",
   "execution_count": null,
   "metadata": {
    "collapsed": true
   },
   "outputs": [],
   "source": []
  }
 ],
 "metadata": {
  "kernelspec": {
   "display_name": "Python 3",
   "language": "python",
   "name": "python3"
  },
  "language_info": {
   "codemirror_mode": {
    "name": "ipython",
    "version": 3
   },
   "file_extension": ".py",
   "mimetype": "text/x-python",
   "name": "python",
   "nbconvert_exporter": "python",
   "pygments_lexer": "ipython3",
   "version": "3.5.3"
  }
 },
 "nbformat": 4,
 "nbformat_minor": 2
}
