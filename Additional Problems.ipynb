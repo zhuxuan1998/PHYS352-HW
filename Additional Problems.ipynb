{
 "cells": [
  {
   "cell_type": "code",
   "execution_count": 1,
   "metadata": {
    "collapsed": true
   },
   "outputs": [],
   "source": [
    "import sympy as sp\n",
    "sp.init_printing()\n",
    "\n",
    "from sympy import vector\n",
    "\n",
    "S = vector.CoordSys3D('', vector_names=['r', \"\\\\theta\", r\"\\phi\"],\n",
    "                     variable_names=['r', \"\\\\theta\", r\"\\phi\"])"
   ]
  },
  {
   "cell_type": "markdown",
   "metadata": {
    "collapsed": true
   },
   "source": [
    "## Problem 1.54\n",
    "Check the divergence theorem for the function $$\\mathbf{v} = r^2\\cos\\theta\\,\\hat{\\mathbf{r}} + r^2\\cos\\phi \\,\\hat{\\boldsymbol{\\theta}} - r^2\\cos\\theta\\sin\\phi\\,\\hat{\\boldsymbol{\\phi}} $$ using as your volume one octant of the sphere of radius $R$. Make sure you include the *entire* surface. \n",
    "\n",
    "*[Answer: $\\pi R^4/4 $]*\n",
    "\n",
    "#### Solution:"
   ]
  },
  {
   "cell_type": "code",
   "execution_count": 2,
   "metadata": {},
   "outputs": [
    {
     "data": {
      "image/png": "[encoded data removed]",
      "text/latex": [
       "$$(- \\sin{\\left ({\\phi}_{} \\right )} \\cos{\\left ({\\theta}_{} \\right )} {r}_{}^{2})\\mathbf{\\hat{\\phi}_{}} + (\\cos{\\left ({\\phi}_{} \\right )} {r}_{}^{2})\\mathbf{\\hat{\\theta}_{}} + (\\cos{\\left ({\\theta}_{} \\right )} {r}_{}^{2})\\mathbf{\\hat{r}_{}}$$"
      ],
      "text/plain": [
       "⎛                           2⎞ _\\phi + ⎛             2⎞ _\\theta + ⎛           \n",
       "⎝-sin()⋅cos(_\\theta)⋅_r ⎠              ⎝cos(_\\phi)⋅_r ⎠           ⎝cos(_\\theta\n",
       "\n",
       "    2⎞ _r\n",
       ")⋅ ⎠     "
      ]
     },
     "execution_count": 2,
     "metadata": {},
     "output_type": "execute_result"
    }
   ],
   "source": [
    "v = S.x**2*sp.cos(S.y)*S.i + S.x**2*sp.cos(S.z)*S.j - S.x**2*sp.cos(S.y)*sp.sin(S.z)*S.k\n",
    "v"
   ]
  },
  {
   "cell_type": "code",
   "execution_count": 3,
   "metadata": {},
   "outputs": [
    {
     "data": {
      "image/png": "[encoded data removed]",
      "text/latex": [
       "$$4 \\cos{\\left ({\\theta}_{} \\right )} {r}_{}$$"
      ],
      "text/plain": [
       "4⋅cos(_\\theta)⋅_r"
      ]
     },
     "execution_count": 3,
     "metadata": {},
     "output_type": "execute_result"
    }
   ],
   "source": [
    "r = S.x\n",
    "theta = S.y\n",
    "phi = S.z\n",
    "\n",
    "vr = v.dot(S.i)\n",
    "vtheta = v.dot(S.j)\n",
    "vphi = v.dot(S.k)\n",
    "\n",
    "divr = (1/r**2 * sp.diff(r**2*vr, r) + \n",
    "        1/(r*sp.sin(theta))*sp.diff(sp.sin(theta)*vtheta, theta) +\n",
    "        1/(r*sp.sin(theta))*sp.diff(vphi, phi))\n",
    "divr"
   ]
  },
  {
   "cell_type": "code",
   "execution_count": 4,
   "metadata": {},
   "outputs": [
    {
     "data": {
      "image/png": "[encoded data removed]",
      "text/latex": [
       "$$\\frac{\\pi R^{4}}{4}$$"
      ],
      "text/plain": [
       "   4\n",
       "π⋅R \n",
       "────\n",
       " 4  "
      ]
     },
     "execution_count": 4,
     "metadata": {},
     "output_type": "execute_result"
    }
   ],
   "source": [
    "R = sp.symbols('R')\n",
    "\n",
    "lhs = sp.integrate(sp.integrate(sp.integrate(divr*r**2*sp.sin(theta), \n",
    "                                             (r, 0, R)), \n",
    "                                (theta, 0, sp.pi/2)), \n",
    "                   (phi, 0, sp.pi/2))\n",
    "lhs"
   ]
  },
  {
   "cell_type": "code",
   "execution_count": 5,
   "metadata": {},
   "outputs": [
    {
     "data": {
      "image/png": "[encoded data removed]",
      "text/latex": [
       "$$\\frac{\\pi R^{4}}{4}$$"
      ],
      "text/plain": [
       "   4\n",
       "π⋅R \n",
       "────\n",
       " 4  "
      ]
     },
     "execution_count": 5,
     "metadata": {},
     "output_type": "execute_result"
    }
   ],
   "source": [
    "curvy = sp.integrate(sp.integrate((vr*r**2*sp.sin(theta)).subs(r, R), \n",
    "                                  (theta, 0, sp.pi/2)),\n",
    "                     (phi, 0, sp.pi/2))\n",
    "left = -sp.integrate(sp.integrate((vphi*r).subs(phi, 0), (r, 0, R)),\n",
    "                     (theta, 0, sp.pi/2))\n",
    "right = sp.integrate(sp.integrate((vphi*r).subs(phi, sp.pi/2), (r, 0, R)),\n",
    "                     (theta, 0, sp.pi/2))\n",
    "bottom = sp.integrate(sp.integrate((vtheta*r*sp.sin(theta)).subs(theta, sp.pi/2), \n",
    "                                   (r, 0, R)),\n",
    "                     (phi, 0, sp.pi/2))\n",
    "\n",
    "\n",
    "\n",
    "rhs = curvy + left + right + bottom\n",
    "rhs"
   ]
  },
  {
   "cell_type": "code",
   "execution_count": 6,
   "metadata": {},
   "outputs": [
    {
     "data": {
      "text/plain": [
       "True"
      ]
     },
     "execution_count": 6,
     "metadata": {},
     "output_type": "execute_result"
    }
   ],
   "source": [
    "lhs == rhs\n"
   ]
  },
  {
   "cell_type": "markdown",
   "metadata": {},
   "source": [
    "Because we will likely need to compute the divergence in spherical coordinates in the future, let's take a moment to write a function for it."
   ]
  },
  {
   "cell_type": "code",
   "execution_count": 7,
   "metadata": {
    "collapsed": true
   },
   "outputs": [],
   "source": [
    "def div_spherical(vec):\n",
    "    \"\"\"Take the divergence in spherical coordinates.\n",
    "    \n",
    "    Works on a sympy.vector style vector.\n",
    "    \"\"\"\n",
    "    \n",
    "    # this was not obvious to me; required some source diving\n",
    "    coordsys = list(vec.atoms(vector.CoordSys3D))[0]\n",
    "    \n",
    "    # to simplify notation\n",
    "    r = coordsys.x\n",
    "    theta = coordsys.y\n",
    "    phi = coordsys.z\n",
    "    \n",
    "    rhat = coordsys.i\n",
    "    thetahat = coordsys.j\n",
    "    phihat = coordsys.k\n",
    "    \n",
    "    # from the inside cover of Griffiths\n",
    "    divr = (1/r**2 * sp.diff(r**2*vec.dot(rhat), r) + \n",
    "        1/(r*sp.sin(theta))*sp.diff(sp.sin(theta)*vec.dot(thetahat), theta) +\n",
    "        1/(r*sp.sin(theta))*sp.diff(vec.dot(phihat), phi))\n",
    "    \n",
    "    return divr"
   ]
  },
  {
   "cell_type": "code",
   "execution_count": 8,
   "metadata": {},
   "outputs": [
    {
     "data": {
      "image/png": "[encoded data removed]",
      "text/latex": [
       "$$4 \\cos{\\left ({\\theta}_{} \\right )} {r}_{}$$"
      ],
      "text/plain": [
       "4⋅cos(_\\theta)⋅_r"
      ]
     },
     "execution_count": 8,
     "metadata": {},
     "output_type": "execute_result"
    }
   ],
   "source": [
    "div_spherical(v)"
   ]
  },
  {
   "cell_type": "markdown",
   "metadata": {},
   "source": [
    "## Problem 1.55\n",
    "Check Stokes' theorem using the function $\\mathbf{v} = ay\\,\\hat{\\mathbf{x}} + bx\\,\\hat{\\mathbf{y}}$ ($a$ and $b$ are constants) and the circular path of radius $R$, centered at the origin in the $xy$ plane. \n",
    "\n",
    "*[Answer: $\\pi R^2(b-a)$]*"
   ]
  },
  {
   "cell_type": "code",
   "execution_count": 9,
   "metadata": {},
   "outputs": [
    {
     "data": {
      "image/png": "[encoded data removed]",
      "text/latex": [
       "$$\\left \\{ x : s \\cos{\\left (\\phi \\right )}, \\quad \\boldsymbol{\\hat{x}} : - \\boldsymbol{\\hat{\\phi}} \\sin{\\left (\\phi \\right )} + \\boldsymbol{\\hat{s}} \\cos{\\left (\\phi \\right )}, \\quad y : s \\sin{\\left (\\phi \\right )}, \\quad \\boldsymbol{\\hat{y}} : \\boldsymbol{\\hat{\\phi}} \\cos{\\left (\\phi \\right )} + \\boldsymbol{\\hat{s}} \\sin{\\left (\\phi \\right )}\\right \\}$$"
      ],
      "text/plain": [
       "{x: s⋅cos(φ), xhatbm: -phihatbm⋅sin(φ) + shatbm⋅cos(φ), y: s⋅sin(φ), yhatbm: p\n",
       "hihatbm⋅cos(φ) + shatbm⋅sin(φ)}"
      ]
     },
     "execution_count": 9,
     "metadata": {},
     "output_type": "execute_result"
    }
   ],
   "source": [
    "# cylindrical coordinates\n",
    "s,phi = sp.symbols('s,phi')\n",
    "x,y = sp.symbols('x,y')\n",
    "\n",
    "xhat, yhat = sp.symbols('xhatbm,yhatbm')\n",
    "phihat,shat = sp.symbols('phihatbm,shatbm')\n",
    "\n",
    "coordeqs = [sp.Eq(x,s*sp.cos(phi)), sp.Eq(y,s*sp.sin(phi))]\n",
    "uveqs = [sp.Eq(phihat, -sp.sin(phi)*xhat + sp.cos(phi)*yhat),\n",
    "         sp.Eq(shat, sp.cos(phi)*xhat + sp.sin(phi)*yhat)]\n",
    "\n",
    "xysubs = sp.solve(coordeqs + uveqs, [x,y,xhat,yhat])\n",
    "xysubs"
   ]
  },
  {
   "cell_type": "code",
   "execution_count": 24,
   "metadata": {},
   "outputs": [
    {
     "data": {
      "image/png": "[encoded data removed]",
      "text/latex": [
       "$$\\boldsymbol{\\hat{\\phi}} \\left(- a s \\sin^{2}{\\left (\\phi \\right )} + b s \\cos^{2}{\\left (\\phi \\right )}\\right) + \\boldsymbol{\\hat{s}} \\left(a s \\sin{\\left (\\phi \\right )} \\cos{\\left (\\phi \\right )} + b s \\sin{\\left (\\phi \\right )} \\cos{\\left (\\phi \\right )}\\right)$$"
      ],
      "text/plain": [
       "         ⎛         2             2   ⎞                                        \n",
       "phihatbm⋅⎝- a⋅s⋅sin (φ) + b⋅s⋅cos (φ)⎠ + shatbm⋅(a⋅s⋅sin(φ)⋅cos(φ) + b⋅s⋅sin(φ\n",
       "\n",
       "         \n",
       ")⋅cos(φ))"
      ]
     },
     "execution_count": 24,
     "metadata": {},
     "output_type": "execute_result"
    }
   ],
   "source": [
    "a,b = sp.symbols('a,b')\n",
    "v = a*y*xhat + b*x*yhat\n",
    "sp.collect(sp.expand(v.subs(xysubs)), (phihat, shat))\n"
   ]
  },
  {
   "cell_type": "markdown",
   "metadata": {},
   "source": [
    "I've gotten to this point without using any of the different sets of machinery we've talked about for working with vectors. The negative consequence of that is that I now can't have `sympy` take dot products. The good news is, I don't really need to; I only need the $\\hat{\\boldsymbol{\\phi}}$ term."
   ]
  },
  {
   "cell_type": "code",
   "execution_count": 25,
   "metadata": {},
   "outputs": [
    {
     "data": {
      "image/png": "[encoded data removed]",
      "text/latex": [
       "$$- a s \\sin^{2}{\\left (\\phi \\right )} + b s \\cos^{2}{\\left (\\phi \\right )}$$"
      ],
      "text/plain": [
       "         2             2   \n",
       "- a⋅s⋅sin (φ) + b⋅s⋅cos (φ)"
      ]
     },
     "execution_count": 25,
     "metadata": {},
     "output_type": "execute_result"
    }
   ],
   "source": [
    "terms = sp.collect(sp.expand(v.subs(xysubs)), (phihat, shat), evaluate=False)\n",
    "terms[phihat]"
   ]
  },
  {
   "cell_type": "code",
   "execution_count": 27,
   "metadata": {},
   "outputs": [
    {
     "data": {
      "image/png": "[encoded data removed]",
      "text/latex": [
       "$$\\pi R^{2} \\left(- a + b\\right)$$"
      ],
      "text/plain": [
       "   2         \n",
       "π⋅R ⋅(-a + b)"
      ]
     },
     "execution_count": 27,
     "metadata": {},
     "output_type": "execute_result"
    }
   ],
   "source": [
    "sp.simplify(sp.integrate((s*terms[phihat]).subs(s, R), (phi, 0, 2*sp.pi)))"
   ]
  },
  {
   "cell_type": "markdown",
   "metadata": {},
   "source": [
    "## Problem 1.56\n",
    "Compute the line integral of $$\\mathbf{v} = 6 \\,\\hat{\\mathbf{x}} + yz^2\\,\\hat{\\mathbf{y}} + \\left(3y+z\\right)\\,\\hat{\\mathbf{z}} $$ along the triangular path shown in figure 1.49. Check your answer using Stokes' theorem.\n",
    "\n",
    "*[Answer: 8/3]*\n"
   ]
  },
  {
   "cell_type": "code",
   "execution_count": null,
   "metadata": {
    "collapsed": true
   },
   "outputs": [],
   "source": []
  },
  {
   "cell_type": "code",
   "execution_count": null,
   "metadata": {
    "collapsed": true
   },
   "outputs": [],
   "source": []
  },
  {
   "cell_type": "code",
   "execution_count": null,
   "metadata": {
    "collapsed": true
   },
   "outputs": [],
   "source": []
  },
  {
   "cell_type": "markdown",
   "metadata": {},
   "source": [
    "## Problem 1.57\n",
    "Compute the line integral of $$\\mathbf{v} = \\left(r\\cos^2\\theta\\right)\\,\\hat{\\mathbf{r}} - \\left(r\\cos\\theta\\sin\\theta\\right)\\,\\hat{\\boldsymbol{\\theta}} + 3r\\,\\hat{\\boldsymbol{\\phi}}$$ around the path shown in figure 1.50. Do it either in cylindrical or spherical coordinates. Check your answer using Stokes' theorem.\n",
    "\n",
    "*[Answer: $3\\pi/2$]*"
   ]
  },
  {
   "cell_type": "code",
   "execution_count": null,
   "metadata": {
    "collapsed": true
   },
   "outputs": [],
   "source": []
  },
  {
   "cell_type": "code",
   "execution_count": null,
   "metadata": {
    "collapsed": true
   },
   "outputs": [],
   "source": []
  },
  {
   "cell_type": "code",
   "execution_count": null,
   "metadata": {
    "collapsed": true
   },
   "outputs": [],
   "source": []
  },
  {
   "cell_type": "code",
   "execution_count": null,
   "metadata": {
    "collapsed": true
   },
   "outputs": [],
   "source": []
  },
  {
   "cell_type": "code",
   "execution_count": 28,
   "metadata": {
    "collapsed": true
   },
   "outputs": [],
   "source": [
    "from scipy.integrate import simps, trapz"
   ]
  },
  {
   "cell_type": "code",
   "execution_count": 29,
   "metadata": {},
   "outputs": [
    {
     "name": "stdout",
     "output_type": "stream",
     "text": [
      "Help on function simps in module scipy.integrate.quadrature:\n",
      "\n",
      "simps(y, x=None, dx=1, axis=-1, even='avg')\n",
      "    Integrate y(x) using samples along the given axis and the composite\n",
      "    Simpson's rule.  If x is None, spacing of dx is assumed.\n",
      "    \n",
      "    If there are an even number of samples, N, then there are an odd\n",
      "    number of intervals (N-1), but Simpson's rule requires an even number\n",
      "    of intervals.  The parameter 'even' controls how this is handled.\n",
      "    \n",
      "    Parameters\n",
      "    ----------\n",
      "    y : array_like\n",
      "        Array to be integrated.\n",
      "    x : array_like, optional\n",
      "        If given, the points at which `y` is sampled.\n",
      "    dx : int, optional\n",
      "        Spacing of integration points along axis of `y`. Only used when\n",
      "        `x` is None. Default is 1.\n",
      "    axis : int, optional\n",
      "        Axis along which to integrate. Default is the last axis.\n",
      "    even : str {'avg', 'first', 'last'}, optional\n",
      "        'avg' : Average two results:1) use the first N-2 intervals with\n",
      "                  a trapezoidal rule on the last interval and 2) use the last\n",
      "                  N-2 intervals with a trapezoidal rule on the first interval.\n",
      "    \n",
      "        'first' : Use Simpson's rule for the first N-2 intervals with\n",
      "                a trapezoidal rule on the last interval.\n",
      "    \n",
      "        'last' : Use Simpson's rule for the last N-2 intervals with a\n",
      "               trapezoidal rule on the first interval.\n",
      "    \n",
      "    See Also\n",
      "    --------\n",
      "    quad: adaptive quadrature using QUADPACK\n",
      "    romberg: adaptive Romberg quadrature\n",
      "    quadrature: adaptive Gaussian quadrature\n",
      "    fixed_quad: fixed-order Gaussian quadrature\n",
      "    dblquad: double integrals\n",
      "    tplquad: triple integrals\n",
      "    romb: integrators for sampled data\n",
      "    cumtrapz: cumulative integration for sampled data\n",
      "    ode: ODE integrators\n",
      "    odeint: ODE integrators\n",
      "    \n",
      "    Notes\n",
      "    -----\n",
      "    For an odd number of samples that are equally spaced the result is\n",
      "    exact if the function is a polynomial of order 3 or less.  If\n",
      "    the samples are not equally spaced, then the result is exact only\n",
      "    if the function is a polynomial of order 2 or less.\n",
      "\n"
     ]
    }
   ],
   "source": [
    "help(simps)"
   ]
  },
  {
   "cell_type": "code",
   "execution_count": null,
   "metadata": {
    "collapsed": true
   },
   "outputs": [],
   "source": []
  }
 ],
 "metadata": {
  "kernelspec": {
   "display_name": "Python 3",
   "language": "python",
   "name": "python3"
  },
  "language_info": {
   "codemirror_mode": {
    "name": "ipython",
    "version": 3
   },
   "file_extension": ".py",
   "mimetype": "text/x-python",
   "name": "python",
   "nbconvert_exporter": "python",
   "pygments_lexer": "ipython3",
   "version": "3.5.3"
  }
 },
 "nbformat": 4,
 "nbformat_minor": 2
}
